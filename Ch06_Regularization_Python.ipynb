{
 "cells": [
  {
   "cell_type": "markdown",
   "id": "6d938eb2",
   "metadata": {},
   "source": [
    "# Class Workbook"
   ]
  },
  {
   "cell_type": "markdown",
   "id": "9908fc96",
   "metadata": {},
   "source": [
    "## In class activity"
   ]
  },
  {
   "cell_type": "code",
   "execution_count": 1,
   "id": "7cca5dff",
   "metadata": {
    "kernel": "Python3",
    "tags": [
     "report_cell"
    ]
   },
   "outputs": [
    {
     "name": "stderr",
     "output_type": "stream",
     "text": [
      "/opt/anaconda3/lib/python3.9/site-packages/pandas/core/computation/expressions.py:21: UserWarning: Pandas requires version '2.8.4' or newer of 'numexpr' (version '2.8.1' currently installed).\n",
      "  from pandas.core.computation.check import NUMEXPR_INSTALLED\n",
      "/opt/anaconda3/lib/python3.9/site-packages/pandas/core/arrays/masked.py:60: UserWarning: Pandas requires version '1.3.6' or newer of 'bottleneck' (version '1.3.4' currently installed).\n",
      "  from pandas.core import (\n",
      "/var/folders/2n/62kb2_1x78d6bpf42ntcmynh0000gn/T/ipykernel_51701/1791503323.py:2: DeprecationWarning: \n",
      "Pyarrow will become a required dependency of pandas in the next major release of pandas (pandas 3.0),\n",
      "(to allow more performant data types, such as the Arrow string type, and better interoperability with other libraries)\n",
      "but was not found to be installed on your system.\n",
      "If this would cause problems for you,\n",
      "please provide us feedback at https://github.com/pandas-dev/pandas/issues/54466\n",
      "        \n",
      "  import pandas as pd\n",
      "/opt/anaconda3/lib/python3.9/site-packages/scipy/__init__.py:146: UserWarning: A NumPy version >=1.16.5 and <1.23.0 is required for this version of SciPy (detected version 1.26.3\n"
     ]
    }
   ],
   "source": [
    "import numpy as np\n",
    "import pandas as pd\n",
    "import math\n",
    "from matplotlib.pyplot import subplots\n",
    "#import statsmodels.api as sm\n",
    "from plotnine import *\n",
    "import plotly.express as px\n",
    "import statsmodels.formula.api as sm\n",
    "#import ISLP as islp"
   ]
  },
  {
   "cell_type": "markdown",
   "id": "aacd4cd7",
   "metadata": {},
   "source": [
    "### Ames Housing data\n",
    "\n",
    "Please take a look at the Ames Hoursing data."
   ]
  },
  {
   "cell_type": "code",
   "execution_count": 2,
   "id": "6eab101a",
   "metadata": {
    "kernel": "Python3",
    "tags": [
     "report_cell"
    ]
   },
   "outputs": [],
   "source": [
    "ames_raw=pd.read_csv(\"ames_raw.csv\")"
   ]
  },
  {
   "cell_type": "markdown",
   "id": "ada3706e",
   "metadata": {},
   "source": [
    "### Questions\n",
    "\n",
    "Use data of `ames_raw` up to 2008 predict the housing price for the later years."
   ]
  },
  {
   "cell_type": "code",
   "execution_count": 3,
   "id": "0c071767",
   "metadata": {
    "Rmd_chunk_options": "echo=show_code",
    "kernel": "Python3",
    "tags": [
     "report_cell"
    ]
   },
   "outputs": [],
   "source": [
    "ames_raw_2009, ames_raw_2008= ames_raw.query('`Yr Sold`>=2008').copy(), ames_raw.query('`Yr Sold` <2008').copy()"
   ]
  },
  {
   "cell_type": "markdown",
   "id": "ff838b0e",
   "metadata": {},
   "source": [
    "Use the same loss function calculator."
   ]
  },
  {
   "cell_type": "code",
   "execution_count": 4,
   "id": "ebb37a76",
   "metadata": {
    "Rmd_chunk_options": "echo=show_code",
    "kernel": "Python3",
    "tags": [
     "report_cell"
    ]
   },
   "outputs": [],
   "source": [
    "def calc_loss(prediction,actual):\n",
    "  difpred = actual-prediction\n",
    "  RMSE =pow(difpred.pow(2).mean(),1/2)\n",
    "  operation_loss=abs(sum(difpred[difpred<0]))+sum(0.1*actual[difpred>0])\n",
    "  return RMSE,operation_loss"
   ]
  },
  {
   "cell_type": "markdown",
   "id": "e9942d09",
   "metadata": {},
   "source": [
    "Here are few rules:\n",
    "\n",
    "- You are not allowed to use the test data.\n",
    "- Try 3 of the regularization methods discussed in Ch6.\n",
    "- You should use a resampling method that is most appropriate for choosing the hyper parameters.\n",
    "\n",
    "Your code:"
   ]
  },
  {
   "cell_type": "code",
   "execution_count": 5,
   "id": "5e72cd2d",
   "metadata": {
    "Rmd_chunk_options": "echo=TRUE",
    "kernel": "Python3",
    "tags": [
     "report_cell"
    ]
   },
   "outputs": [],
   "source": [
    "#\n",
    "#"
   ]
  },
  {
   "cell_type": "markdown",
   "id": "8daa08c2",
   "metadata": {},
   "source": [
    "Your answer:\n",
    "\n",
    "~~~\n",
    "Please write your answer in full sentences.\n",
    "\n",
    "\n",
    "~~~\n",
    "\n",
    "- For each of the models you've run, can you interpret which variable impacts the outcome the most?\n",
    "Are the results consistent across different methods?\n",
    "\n",
    "Your code:"
   ]
  },
  {
   "cell_type": "code",
   "execution_count": 6,
   "id": "c366654a",
   "metadata": {
    "Rmd_chunk_options": "echo=TRUE",
    "kernel": "Python3",
    "tags": [
     "report_cell"
    ]
   },
   "outputs": [],
   "source": [
    "#\n",
    "#"
   ]
  },
  {
   "cell_type": "markdown",
   "id": "19a6e3c0",
   "metadata": {},
   "source": [
    "Your answer:\n",
    "\n",
    "~~~\n",
    "Please write your answer in full sentences.\n",
    "\n",
    "\n",
    "~~~\n",
    "\n",
    "- Try these methods with bootstrap, are the results consistent?\n",
    "\n",
    "Your code:"
   ]
  },
  {
   "cell_type": "code",
   "execution_count": 7,
   "id": "7c1bb44f",
   "metadata": {
    "Rmd_chunk_options": "echo=TRUE",
    "kernel": "Python3",
    "tags": [
     "report_cell"
    ]
   },
   "outputs": [],
   "source": [
    "#\n",
    "#"
   ]
  },
  {
   "cell_type": "markdown",
   "id": "b17b0e98",
   "metadata": {},
   "source": [
    "Your answer:\n",
    "\n",
    "~~~\n",
    "Please write your answer in full sentences.\n",
    "\n",
    "\n",
    "~~~\n",
    "\n",
    "- Based on all the models you've run, which result predicts the best?  Which one is most easy to understand?  Which method gives the most stable results?\n",
    "\n",
    "Your code:"
   ]
  },
  {
   "cell_type": "code",
   "execution_count": 8,
   "id": "6622903b",
   "metadata": {
    "Rmd_chunk_options": "echo=TRUE",
    "kernel": "Python3",
    "tags": [
     "report_cell"
    ]
   },
   "outputs": [],
   "source": [
    "#\n",
    "#"
   ]
  },
  {
   "cell_type": "markdown",
   "id": "1d683c9a",
   "metadata": {},
   "source": [
    "Your answer:\n",
    "\n",
    "~~~\n",
    "Please write your answer in full sentences.\n",
    "\n",
    "\n",
    "~~~"
   ]
  },
  {
   "cell_type": "markdown",
   "id": "31f56de0",
   "metadata": {},
   "source": [
    "## Problem Set"
   ]
  },
  {
   "cell_type": "markdown",
   "id": "bd5672d3",
   "metadata": {},
   "source": [
    "### Best Subset\n",
    "\n",
    "In this exercise, we will generate simulated data, and will then use this data to perform best subset selection.\n",
    "\n",
    "(a) Use the `normal()` function to generate a predictor $X$ of length $n = 100$, as well as a noise vector $\\epsilon$ of length $n = 100$.\n",
    "\n",
    "Your code:"
   ]
  },
  {
   "cell_type": "code",
   "execution_count": 9,
   "id": "6d24b2fd",
   "metadata": {
    "Rmd_chunk_options": "echo=TRUE",
    "kernel": "Python3",
    "tags": [
     "report_cell"
    ]
   },
   "outputs": [],
   "source": [
    "# Set seed for reproducibility\n",
    "np.random.seed(0)\n",
    "\n",
    "# Generate predictor X and noise epsilon\n",
    "n = 100\n",
    "X = np.random.normal(loc=0, scale=1, size=n)  # mean=0, sd=1\n",
    "epsilon = np.random.normal(loc=0, scale=1, size=n)  # mean=0, sd=1"
   ]
  },
  {
   "cell_type": "markdown",
   "id": "15fb8565",
   "metadata": {},
   "source": [
    "(b) Generate a response vector $Y$ of length $n = 100$ according to the model $$\\mathbf{y} = \\boldsymbol{\\beta}_0 + \\beta_1X + \\beta2X^2 + \\beta_3X^3 + \\epsilon$$, where $\\beta_{0}$ , $\\beta_{1}$, $\\beta_{2}$, and $\\beta_{3}$ are constants of your choice.\n",
    "\n",
    "Your code:"
   ]
  },
  {
   "cell_type": "code",
   "execution_count": 36,
   "id": "965de638",
   "metadata": {
    "Rmd_chunk_options": "echo=TRUE",
    "kernel": "Python3",
    "tags": [
     "report_cell"
    ]
   },
   "outputs": [],
   "source": [
    "beta_0 = 1\n",
    "beta_1 = 2\n",
    "beta_2 = 3\n",
    "beta_3 = 4\n",
    "\n",
    "# Generate Y\n",
    "Y = beta_0 + beta_1 * X + beta_2 * X**2 + beta_3 * X**3 + epsilon"
   ]
  },
  {
   "cell_type": "markdown",
   "id": "20844507",
   "metadata": {
    "jupyter": {
     "source_hidden": true
    },
    "kernel": "Markdown",
    "tags": [
     "report_output"
    ]
   },
   "source": [
    "(c) Use the `regsubsets()` function to perform best subset selection in order to choose the best model containing the predictors $X$, $X^{2},\\dots,X^{10}$. What is the best model obtained according to $C_p$ , BIC, and adjusted $R^2$ ? Show some plots to provide evidence for your answer, and report the coefficients of the best model obtained. Note you will need to use the `data.frame()` function to create a single data set containing both $X$ and $Y$.\n",
    "\n",
    "Your code:"
   ]
  },
  {
   "cell_type": "code",
   "execution_count": 38,
   "id": "b14ff637",
   "metadata": {
    "Rmd_chunk_options": "echo=TRUE",
    "jupyter": {
     "source_hidden": true
    },
    "kernel": "Python3",
    "tags": [
     "report_cell"
    ]
   },
   "outputs": [
    {
     "name": "stdout",
     "output_type": "stream",
     "text": [
      "Best model based on Cp: ('X^1', 'X^2', 'X^3', 'X^5')\n",
      "Best model based on BIC: ('X^1', 'X^2', 'X^3')\n",
      "Best model based on Adjusted R^2: ('X^1', 'X^2', 'X^3', 'X^4', 'X^7', 'X^9')\n",
      "Coefficients of the best model based on Cp: const    1.177226\n",
      "X^1      1.730710\n",
      "X^2      2.884336\n",
      "X^3      4.377513\n",
      "X^5     -0.061077\n",
      "dtype: float64\n"
     ]
    }
   ],
   "source": [
    "import numpy as np\n",
    "import pandas as pd\n",
    "from sklearn.model_selection import train_test_split\n",
    "from sklearn.linear_model import LinearRegression\n",
    "from sklearn.metrics import mean_squared_error\n",
    "from itertools import combinations\n",
    "import statsmodels.api as sm\n",
    "\n",
    "X_poly = np.vander(X, N=11, increasing=True)[:,1:]  # Exclude the column for X^0\n",
    "\n",
    "df_poly = pd.DataFrame(X_poly, columns=[f'X^{i}' for i in range(1, 11)])\n",
    "df_poly['Y'] = Y  # Add the response variable\n",
    "\n",
    "def fit_model_and_calculate_criteria(features):\n",
    "    # Fit model\n",
    "    X = df_poly[list(features)]\n",
    "    X = sm.add_constant(X)  # Adds a constant term to the model\n",
    "    model = sm.OLS(df_poly['Y'], X).fit()\n",
    "    \n",
    "    # Calculate criteria\n",
    "    rss = model.ssr\n",
    "    n = len(df_poly)\n",
    "    p = len(model.params) - 1  # Adjust for constant\n",
    "    mse = rss / (n - p - 1)\n",
    "    cp = (1/n) * (rss + 2 * p * mse)\n",
    "    bic = model.bic\n",
    "    adj_r_squared = model.rsquared_adj\n",
    "    \n",
    "    return (cp, bic, adj_r_squared, model)\n",
    "\n",
    "results = []\n",
    "for k in range(1, 11):  # Number of predictors in the model\n",
    "    for combo in combinations(df_poly.columns[:-1], k):  # Exclude response variable Y\n",
    "        criteria = fit_model_and_calculate_criteria(combo)\n",
    "        results.append((combo, *criteria))\n",
    "\n",
    "best_cp = min(results, key=lambda x: x[1])\n",
    "best_bic = min(results, key=lambda x: x[2])\n",
    "best_adj_r_squared = max(results, key=lambda x: x[3])\n",
    "\n",
    "# Print the best models\n",
    "print(\"Best model based on Cp:\", best_cp[0])\n",
    "print(\"Best model based on BIC:\", best_bic[0])\n",
    "print(\"Best model based on Adjusted R^2:\", best_adj_r_squared[0])\n",
    "\n",
    "# Coefficients of the best model (example for one criterion)\n",
    "print(\"Coefficients of the best model based on Cp:\", best_cp[-1].params)\n"
   ]
  },
  {
   "cell_type": "markdown",
   "id": "b63f8423",
   "metadata": {},
   "source": [
    "Your answer:\n",
    "\n",
    "~~~\n",
    "Please write your answer in full sentences.\n",
    "\n",
    "\n",
    "~~~\n",
    "\n",
    "(d) Repeat (c), using forward stepwise selection and also using backwards stepwise selection. How does your answer compare to the results in (c)?\n",
    "\n",
    "Your code:"
   ]
  },
  {
   "cell_type": "code",
   "execution_count": 43,
   "id": "c2d285f9",
   "metadata": {
    "Rmd_chunk_options": "echo=TRUE",
    "kernel": "Python3",
    "tags": [
     "report_cell"
    ]
   },
   "outputs": [
    {
     "name": "stdout",
     "output_type": "stream",
     "text": [
      "Forward Stepwise Selection Features: ['X^3', 'X^2', 'X^1', 'X^5']\n",
      "Backward Stepwise Selection Features: ^\n"
     ]
    }
   ],
   "source": [
    "features = set(df_poly.columns[:-1])  # All possible features excluding the response\n",
    "selected_features_forward = []\n",
    "remaining_features = list(features)\n",
    "model_performance = []\n",
    "\n",
    "while remaining_features:\n",
    "    scores_with_candidates = []\n",
    "    for candidate in remaining_features:\n",
    "        current_features = selected_features_forward + [candidate]\n",
    "        X = sm.add_constant(df_poly[current_features])  # Adds a constant term to the model\n",
    "        model = sm.OLS(df_poly['Y'], X).fit()\n",
    "        scores_with_candidates.append((model.aic, candidate))\n",
    "    \n",
    "    scores_with_candidates.sort()\n",
    "    best_new_score, best_candidate = scores_with_candidates[0]\n",
    "    \n",
    "    # Break if no improvement\n",
    "    if not model_performance or best_new_score < model_performance[-1][0]:\n",
    "        selected_features_forward.append(best_candidate)\n",
    "        remaining_features.remove(best_candidate)\n",
    "        model_performance.append((best_new_score, selected_features_forward.copy()))\n",
    "    else:\n",
    "        break\n",
    "\n",
    "selected_features_backward = list(features)\n",
    "model_performance_backward = []\n",
    "\n",
    "while selected_features_backward:\n",
    "    scores_with_candidates = []\n",
    "    for candidate in selected_features_backward:\n",
    "        current_features = selected_features_backward.copy()\n",
    "        current_features.remove(candidate)\n",
    "        X = sm.add_constant(df_poly[current_features])  # Adds a constant term to the model\n",
    "        model = sm.OLS(df_poly['Y'], X).fit()\n",
    "        scores_with_candidates.append((model.aic, candidate))\n",
    "    \n",
    "    scores_with_candidates.sort(reverse=True)\n",
    "    best_new_score, worst_candidate = scores_with_candidates[0]\n",
    "    \n",
    "    if not model_performance_backward or best_new_score < model_performance_backward[-1][0]:\n",
    "        selected_features_backward.remove(worst_candidate)\n",
    "        model_performance_backward.append((best_new_score, selected_features_backward.copy()))\n",
    "    else:\n",
    "        break\n",
    "\n",
    "# Output the results\n",
    "print(\"Forward Stepwise Selection Features:\", selected_features_forward)\n",
    "print(\"Backward Stepwise Selection Features:\", selected_features_backward[-1][1])\n"
   ]
  },
  {
   "cell_type": "markdown",
   "id": "489f6925",
   "metadata": {},
   "source": [
    "Your answer:\n",
    "\n",
    "~~~\n",
    "Please write your answer in full sentences.\n",
    "\n",
    "\n",
    "~~~\n",
    "\n",
    "(e) Now fit a lasso model to the simulated data, again using $X$, $X^{2},\\dots, X^{10}$ as predictors. Use cross-validation to select the optimal value of $\\lambda$. Create plots of the cross-validation error as a function of $\\lambda$. Report the resulting coefficient estimates, and discuss the results obtained.\n",
    "\n",
    "Your code:"
   ]
  },
  {
   "cell_type": "code",
   "execution_count": 47,
   "id": "1193e2f4",
   "metadata": {
    "Rmd_chunk_options": "echo=TRUE",
    "kernel": "Python3",
    "tags": [
     "report_cell"
    ]
   },
   "outputs": [
    {
     "data": {
      "image/png": "[encoded data removed]",
      "text/plain": [
       "<Figure size 720x432 with 1 Axes>"
      ]
     },
     "metadata": {
      "needs_background": "light"
     },
     "output_type": "display_data"
    },
    {
     "name": "stdout",
     "output_type": "stream",
     "text": [
      "[ 0.         0.        -0.0001176]\n"
     ]
    }
   ],
   "source": [
    "from sklearn.linear_model import LassoCV\n",
    "import matplotlib.pyplot as plt\n",
    "\n",
    "X = np.random.normal(size=(100, 1))  # Example input feature, replace with your actual data\n",
    "\n",
    "X_2 = X**2\n",
    "X_10 = X**10\n",
    "\n",
    "X_poly_specific = np.hstack((X, X_2, X_10))\n",
    "\n",
    "lasso_cv = LassoCV(cv=5, random_state=0, max_iter=10000)\n",
    "\n",
    "lasso_cv.fit(X_poly_specific, Y)  # Y should be your response vector\n",
    "\n",
    "mse_path = lasso_cv.mse_path_.mean(axis=1)\n",
    "alphas = lasso_cv.alphas_\n",
    "\n",
    "plt.figure(figsize=(10, 6))\n",
    "plt.plot(alphas, mse_path, '-o')\n",
    "plt.xlabel('Alpha (λ)')\n",
    "plt.ylabel('Mean Squared Error')\n",
    "plt.xscale('log')\n",
    "plt.title('MSE vs. Alpha (λ) for Lasso Regression')\n",
    "plt.show()\n",
    "\n",
    "# Coefficient estimates\n",
    "coefficients = lasso_cv.coef_\n",
    "print(coefficients)\n"
   ]
  },
  {
   "cell_type": "markdown",
   "id": "b26e08fd",
   "metadata": {},
   "source": [
    "Your answer:\n",
    "\n",
    "~~~\n",
    "Please write your answer in full sentences.\n",
    "\n",
    "\n",
    "~~~\n",
    "\n",
    "(f) Now generate a response vector Y according to the model $$Y = \\beta_{0} + \\beta_{7}X^{7} + \\epsilon,$$and perform best subset selection and the lasso. Discuss the results obtained.\n",
    "\n",
    "Your code:"
   ]
  },
  {
   "cell_type": "code",
   "execution_count": 54,
   "id": "f7d13701",
   "metadata": {
    "Rmd_chunk_options": "echo=TRUE",
    "kernel": "Python3",
    "tags": [
     "report_cell"
    ]
   },
   "outputs": [
    {
     "name": "stdout",
     "output_type": "stream",
     "text": [
      "Coefficient estimates: [ 0.         -0.          0.         -0.          0.         -0.\n",
      "  0.         -0.          0.86622327 -0.02026603]\n"
     ]
    }
   ],
   "source": [
    "from sklearn.linear_model import LassoCV\n",
    "from sklearn.preprocessing import PolynomialFeatures\n",
    "\n",
    "n_samples = 100\n",
    "X = np.random.normal(size=n_samples).reshape(-1, 1)  # Reshape for consistency\n",
    "poly = PolynomialFeatures(degree=10, include_bias=False)\n",
    "X_poly = poly.fit_transform(X)\n",
    "\n",
    "beta_0 = 1\n",
    "beta_7 = 5\n",
    "\n",
    "epsilon = np.random.normal(size=n_samples)  # Match number of samples in X\n",
    "\n",
    "Y_new = beta_0 + beta_7 * X_poly[:, 6] + epsilon  # Use the 7th degree term correctly\n",
    "\n",
    "lasso_cv_new = LassoCV(cv=5, random_state=0, max_iter=10000)\n",
    "lasso_cv_new.fit(X_poly, Y_new)  # Ensure Y is the correct shape\n",
    "\n",
    "coefficients_new = lasso_cv_new.coef_\n",
    "\n",
    "print(\"Coefficient estimates:\", coefficients_new)\n"
   ]
  },
  {
   "cell_type": "markdown",
   "id": "db2ad06f",
   "metadata": {},
   "source": [
    "Your answer:\n",
    "\n",
    "~~~\n",
    "Please write your answer in full sentences.\n",
    "\n",
    "\n",
    "~~~"
   ]
  },
  {
   "cell_type": "markdown",
   "id": "db4219cd",
   "metadata": {},
   "source": [
    "### College\n",
    "\n",
    "In this exercise, we will predict the number of applications received using the other variables in the College data set."
   ]
  },
  {
   "cell_type": "code",
   "execution_count": 59,
   "id": "085947ee",
   "metadata": {
    "kernel": "Python3",
    "tags": [
     "report_cell"
    ]
   },
   "outputs": [
    {
     "name": "stdout",
     "output_type": "stream",
     "text": [
      "<class 'pandas.core.frame.DataFrame'>\n",
      "RangeIndex: 777 entries, 0 to 776\n",
      "Data columns (total 17 columns):\n",
      " #   Column       Non-Null Count  Dtype  \n",
      "---  ------       --------------  -----  \n",
      " 0   Apps         777 non-null    int64  \n",
      " 1   Accept       777 non-null    int64  \n",
      " 2   Enroll       777 non-null    int64  \n",
      " 3   Top10perc    777 non-null    int64  \n",
      " 4   Top25perc    777 non-null    int64  \n",
      " 5   F.Undergrad  777 non-null    int64  \n",
      " 6   P.Undergrad  777 non-null    int64  \n",
      " 7   Outstate     777 non-null    int64  \n",
      " 8   Room.Board   777 non-null    int64  \n",
      " 9   Books        777 non-null    int64  \n",
      " 10  Personal     777 non-null    int64  \n",
      " 11  PhD          777 non-null    int64  \n",
      " 12  Terminal     777 non-null    int64  \n",
      " 13  S.F.Ratio    777 non-null    float64\n",
      " 14  perc.alumni  777 non-null    int64  \n",
      " 15  Expend       777 non-null    int64  \n",
      " 16  Grad.Rate    777 non-null    int64  \n",
      "dtypes: float64(1), int64(16)\n",
      "memory usage: 103.3 KB\n",
      "None\n"
     ]
    }
   ],
   "source": [
    "from ISLP import load_data\n",
    "College = load_data(\"College\").drop('Private', axis=1)\n",
    "print(College.info())"
   ]
  },
  {
   "cell_type": "markdown",
   "id": "8637fc88",
   "metadata": {},
   "source": [
    "(a) Split the data set into a training set and a test set.\n",
    "\n",
    "Your code:"
   ]
  },
  {
   "cell_type": "code",
   "execution_count": 60,
   "id": "7e244194",
   "metadata": {
    "Rmd_chunk_options": "echo=TRUE",
    "kernel": "Python3",
    "tags": [
     "report_cell"
    ]
   },
   "outputs": [],
   "source": [
    "from sklearn.model_selection import train_test_split\n",
    "\n",
    "# Assuming 'college_df' is your DataFrame containing the College dataset\n",
    "\n",
    "# Splitting the dataset into features and target variable\n",
    "# For example, if 'Apps' is the target variable\n",
    "X = College.drop('Apps', axis=1)  # Features (all columns except 'Apps')\n",
    "y = College['Apps']  # Target variable\n",
    "\n",
    "# Split the data into training and testing sets\n",
    "# Adjust the test_size to control the proportion of the dataset to include in the test split\n",
    "X_train, X_test, y_train, y_test = train_test_split(X, y, test_size=0.2, random_state=42)\n",
    "\n",
    "# X_train, X_test, y_train, y_test are now your datasets for training and testing\n"
   ]
  },
  {
   "cell_type": "markdown",
   "id": "08f0fc19",
   "metadata": {},
   "source": [
    "(b) Fit a linear model using least squares on the training set, and report the test error obtained.\n",
    "\n",
    "Your code:"
   ]
  },
  {
   "cell_type": "code",
   "execution_count": 61,
   "id": "8025e3aa",
   "metadata": {
    "Rmd_chunk_options": "echo=TRUE",
    "kernel": "Python3",
    "tags": [
     "report_cell"
    ]
   },
   "outputs": [
    {
     "name": "stdout",
     "output_type": "stream",
     "text": [
      "Test MSE: 1442624.9143528002\n"
     ]
    }
   ],
   "source": [
    "from sklearn.linear_model import LinearRegression\n",
    "from sklearn.metrics import mean_squared_error\n",
    "\n",
    "\n",
    "linear_model = LinearRegression()\n",
    "\n",
    "linear_model.fit(X_train, y_train)\n",
    "\n",
    "y_pred = linear_model.predict(X_test)\n",
    "\n",
    "test_mse = mean_squared_error(y_test, y_pred)\n",
    "\n",
    "print(f\"Test MSE: {test_mse}\")\n"
   ]
  },
  {
   "cell_type": "markdown",
   "id": "681ece4f",
   "metadata": {},
   "source": [
    "Your answer:\n",
    "\n",
    "~~~\n",
    "Please write your answer in full sentences.\n",
    "\n",
    "\n",
    "~~~\n",
    "\n",
    "(c) Fit a ridge regression model on the training set, with $\\lambda$ chosen by cross-validation. Report the test error obtained.\n",
    "\n",
    "\n",
    "Your code:"
   ]
  },
  {
   "cell_type": "code",
   "execution_count": 62,
   "id": "e97b26f1",
   "metadata": {
    "Rmd_chunk_options": "echo=TRUE",
    "kernel": "Python3",
    "tags": [
     "report_cell"
    ]
   },
   "outputs": [
    {
     "name": "stdout",
     "output_type": "stream",
     "text": [
      "Test MSE for Ridge Regression: 1443602.5421331476\n",
      "Best lambda (alpha) chosen by cross-validation: 1000.0\n"
     ]
    }
   ],
   "source": [
    "from sklearn.linear_model import RidgeCV\n",
    "from sklearn.metrics import mean_squared_error\n",
    "\n",
    "# Define a range of lambda (alpha) values for RidgeCV to search\n",
    "\n",
    "alphas = np.logspace(-6, 6, 13)\n",
    "\n",
    "ridge_cv = RidgeCV(alphas=alphas, scoring='neg_mean_squared_error', cv=5)\n",
    "\n",
    "ridge_cv.fit(X_train, y_train)\n",
    "\n",
    "y_pred_ridge = ridge_cv.predict(X_test)\n",
    "\n",
    "test_mse_ridge = mean_squared_error(y_test, y_pred_ridge)\n",
    "\n",
    "print(f\"Test MSE for Ridge Regression: {test_mse_ridge}\")\n",
    "print(f\"Best lambda (alpha) chosen by cross-validation: {ridge_cv.alpha_}\")\n"
   ]
  },
  {
   "cell_type": "markdown",
   "id": "a0cfab37",
   "metadata": {},
   "source": [
    "Your answer:\n",
    "\n",
    "~~~\n",
    "Please write your answer in full sentences.\n",
    "\n",
    "\n",
    "~~~\n",
    "\n",
    "(d) Fit a lasso model on the training set, with $\\lambda$ chosen by crossvalidation. Report the test error obtained, along with the number of non-zero coefficient estimates.\n",
    "\n",
    "Your code:"
   ]
  },
  {
   "cell_type": "code",
   "execution_count": 63,
   "id": "d6bac610",
   "metadata": {
    "Rmd_chunk_options": "echo=TRUE",
    "kernel": "Python3",
    "tags": [
     "report_cell"
    ]
   },
   "outputs": [
    {
     "name": "stdout",
     "output_type": "stream",
     "text": [
      "Test MSE for Lasso Regression: 1587020.0176529177\n",
      "Number of non-zero coefficients: 7\n"
     ]
    }
   ],
   "source": [
    "lasso_cv = LassoCV(cv=5, random_state=0, max_iter=10000)\n",
    "lasso_cv.fit(X_train, y_train)\n",
    "y_pred_lasso = lasso_cv.predict(X_test)\n",
    "test_mse_lasso = mean_squared_error(y_test, y_pred_lasso)\n",
    "non_zero_coefficients = np.sum(lasso_cv.coef_ != 0)\n",
    "\n",
    "print(f\"Test MSE for Lasso Regression: {test_mse_lasso}\")\n",
    "print(f\"Number of non-zero coefficients: {non_zero_coefficients}\")\n"
   ]
  },
  {
   "cell_type": "markdown",
   "id": "dc8348d3",
   "metadata": {},
   "source": [
    "Your answer:\n",
    "\n",
    "~~~\n",
    "Please write your answer in full sentences.\n",
    "\n",
    "\n",
    "~~~\n",
    "\n",
    "(e) Fit a PCR model on the training set, with M chosen by crossvalidation. Report the test error obtained, along with the value of M selected by cross-validation.\n",
    "\n",
    "\n",
    "Your code:"
   ]
  },
  {
   "cell_type": "code",
   "execution_count": 65,
   "id": "e98c54fa",
   "metadata": {
    "Rmd_chunk_options": "echo=TRUE",
    "kernel": "Python3",
    "tags": [
     "report_cell"
    ]
   },
   "outputs": [
    {
     "name": "stdout",
     "output_type": "stream",
     "text": [
      "Best number of components: 16\n",
      "Test MSE: 1442624.91435282\n"
     ]
    }
   ],
   "source": [
    "from sklearn.decomposition import PCA\n",
    "from sklearn.linear_model import LinearRegression\n",
    "from sklearn.model_selection import cross_val_score, KFold\n",
    "from sklearn.pipeline import Pipeline\n",
    "from sklearn.preprocessing import StandardScaler\n",
    "\n",
    "cv = KFold(n_splits=5, shuffle=True, random_state=0)\n",
    "\n",
    "pipeline = Pipeline([\n",
    "    ('scaler', StandardScaler()),\n",
    "    ('pca', PCA()),\n",
    "    ('linear_regression', LinearRegression())\n",
    "])\n",
    "\n",
    "cross_val_scores = []\n",
    "\n",
    "max_components = min(X_train.shape)\n",
    "\n",
    "for n_components in range(1, max_components + 1):\n",
    "    pipeline.set_params(pca__n_components=n_components)\n",
    "    scores = cross_val_score(pipeline, X_train, y_train, cv=cv, scoring='neg_mean_squared_error')\n",
    "    cross_val_scores.append(np.mean(scores))\n",
    "\n",
    "best_n_components = np.argmax(cross_val_scores) + 1  # +1 because index 0 corresponds to 1 component\n",
    "\n",
    "pipeline.set_params(pca__n_components=best_n_components)\n",
    "pipeline.fit(X_train, y_train)\n",
    "\n",
    "y_pred = pipeline.predict(X_test)\n",
    "test_error = mean_squared_error(y_test, y_pred)\n",
    "\n",
    "print(f\"Best number of components: {best_n_components}\")\n",
    "print(f\"Test MSE: {test_error}\")\n"
   ]
  },
  {
   "cell_type": "markdown",
   "id": "7706d54b",
   "metadata": {},
   "source": [
    "Your answer:\n",
    "\n",
    "~~~\n",
    "Please write your answer in full sentences.\n",
    "\n",
    "\n",
    "~~~\n",
    "\n",
    "(f) Fit a PLS model on the training set, with M chosen by crossvalidation. Report the test error obtained, along with the value of M selected by cross-validation.\n",
    "\n",
    "\n",
    "Your code:"
   ]
  },
  {
   "cell_type": "code",
   "execution_count": 66,
   "id": "a46994c9",
   "metadata": {
    "Rmd_chunk_options": "echo=TRUE",
    "kernel": "Python3",
    "tags": [
     "report_cell"
    ]
   },
   "outputs": [
    {
     "name": "stdout",
     "output_type": "stream",
     "text": [
      "Best number of components by CV: 15\n",
      "Test MSE for PLS: 1442731.7325720615\n"
     ]
    }
   ],
   "source": [
    "from sklearn.cross_decomposition import PLSRegression\n",
    "from sklearn.model_selection import cross_val_score, KFold\n",
    "from sklearn.metrics import mean_squared_error\n",
    "\n",
    "cv = KFold(n_splits=5, shuffle=True, random_state=0)\n",
    "\n",
    "mse_scores = []\n",
    "components_range = range(1, min(X_train.shape[1], X_train.shape[0]) + 1)\n",
    "\n",
    "for n_components in components_range:\n",
    "    pls = PLSRegression(n_components=n_components)\n",
    "    scores = cross_val_score(pls, X_train, y_train, cv=cv, scoring='neg_mean_squared_error')\n",
    "    mse_scores.append(np.mean(scores))\n",
    "\n",
    "best_n_components = np.argmax(mse_scores) + 1  # +1 because range starts at 1\n",
    "\n",
    "pls_best = PLSRegression(n_components=best_n_components)\n",
    "pls_best.fit(X_train, y_train)\n",
    "\n",
    "y_pred_pls = pls_best.predict(X_test)\n",
    "test_mse_pls = mean_squared_error(y_test, y_pred_pls)\n",
    "\n",
    "print(f\"Best number of components by CV: {best_n_components}\")\n",
    "print(f\"Test MSE for PLS: {test_mse_pls}\")\n"
   ]
  },
  {
   "cell_type": "markdown",
   "id": "fefeedfd",
   "metadata": {},
   "source": [
    "Your answer:\n",
    "\n",
    "~~~\n",
    "Please write your answer in full sentences.\n",
    "\n",
    "\n",
    "~~~\n",
    "\n",
    "(g) Comment on the results obtained. How accurately can we predict the number of college applications received? Is there much difference among the test errors resulting from these five approaches?\n",
    "\n",
    "\n",
    "Your code:"
   ]
  },
  {
   "cell_type": "markdown",
   "id": "58c2f5ec",
   "metadata": {},
   "source": [
    "Your answer:\n",
    "\n",
    "~~~\n",
    "The small differences in MSE among PCR, PLS, Ridge, and Linear Regression indicate that each of these approaches has its merits, depending on the specific characteristics of the dataset and the modeling goals. For predictive performance, PCR slightly edges out as the most effective model among those tested. The choice between PCR, PLS, and Ridge should also consider factors like model interpretability, computational efficiency, and the specific use case's requirements. The relatively high lambda value for Ridge suggests a strong need for regularization, possibly due to multicollinearity among predictors.\n",
    "\n",
    "\n",
    "PLS (Partial Least Squares) Regression:\n",
    "Best number of components by CV: 15\n",
    "Test MSE: 1,442,731.73\n",
    "\n",
    "PCR (Principal Component Regression):\n",
    "Best number of components: 16\n",
    "Test MSE: 1,442,624.91\n",
    "\n",
    "Lasso Regression:\n",
    "Test MSE: 1,587,020.02\n",
    "Number of non-zero coefficients: 7\n",
    "\n",
    "Ridge Regression:\n",
    "Best lambda (alpha) chosen by cross-validation: 1000.0\n",
    "Test MSE: 1,443,602.54\n",
    "\n",
    "Linear Regression (Test MSE mentioned in the same context as Ridge):\n",
    "Test MSE: 1,442,624.91\n",
    "\n",
    "\n",
    "~~~"
   ]
  },
  {
   "cell_type": "markdown",
   "id": "54725db8",
   "metadata": {},
   "source": [
    "### Features\n",
    "\n",
    "We have seen that as the number of features used in a model increases, the training error will necessarily decrease, but the test error may not. We will now explore this in a simulated data set.\n",
    "\n",
    "(a) Generate a data set with (p = 20) features, (n = 1,000) observations, and an associated quantitative response vector generated according to the model $$\\mathbf{y} = \\mathbf{X}\\boldsymbol{\\beta} + \\boldsymbol{\\epsilon}$$, where ($\\boldsymbol{\\beta}$) has some elements that are exactly equal to zero.\n",
    "\n",
    "Your code:"
   ]
  },
  {
   "cell_type": "code",
   "execution_count": 67,
   "id": "b70269dc",
   "metadata": {
    "Rmd_chunk_options": "echo=TRUE",
    "kernel": "Python3",
    "tags": [
     "report_cell"
    ]
   },
   "outputs": [
    {
     "data": {
      "text/plain": [
       "(         X1        X2        X3        X4        X5        X6        X7  \\\n",
       " 0  1.764052  0.400157  0.978738  2.240893  1.867558 -0.977278  0.950088   \n",
       " 1 -2.552990  0.653619  0.864436 -0.742165  2.269755 -1.454366  0.045759   \n",
       " 2 -1.048553 -1.420018 -1.706270  1.950775 -0.509652 -0.438074 -1.252795   \n",
       " 3 -0.672460 -0.359553 -0.813146 -1.726283  0.177426 -0.401781 -1.630198   \n",
       " 4 -1.165150  0.900826  0.465662 -1.536244  1.488252  1.895889  1.178780   \n",
       " \n",
       "          X8        X9       X10       X11       X12       X13       X14  \\\n",
       " 0 -0.151357 -0.103219  0.410599  0.144044  1.454274  0.761038  0.121675   \n",
       " 1 -0.187184  1.532779  1.469359  0.154947  0.378163 -0.887786 -1.980796   \n",
       " 2  0.777490 -1.613898 -0.212740 -0.895467  0.386902 -0.510805 -1.180632   \n",
       " 3  0.462782 -0.907298  0.051945  0.729091  0.128983  1.139401 -1.234826   \n",
       " 4 -0.179925 -1.070753  1.054452 -0.403177  1.222445  0.208275  0.976639   \n",
       " \n",
       "         X15       X16       X17       X18       X19       X20  \n",
       " 0  0.443863  0.333674  1.494079 -0.205158  0.313068 -0.854096  \n",
       " 1 -0.347912  0.156349  1.230291  1.202380 -0.387327 -0.302303  \n",
       " 2 -0.028182  0.428332  0.066517  0.302472 -0.634322 -0.362741  \n",
       " 3  0.402342 -0.684810 -0.870797 -0.578850 -0.311553  0.056165  \n",
       " 4  0.356366  0.706573  0.010500  1.785870  0.126912  0.401989  ,\n",
       " 0    4.442922\n",
       " 1    0.270529\n",
       " 2   -0.884012\n",
       " 3    2.430069\n",
       " 4   -2.165895\n",
       " Name: y, dtype: float64)"
      ]
     },
     "execution_count": 67,
     "metadata": {},
     "output_type": "execute_result"
    }
   ],
   "source": [
    "np.random.seed(0)\n",
    "\n",
    "n = 1000  # Number of observations\n",
    "p = 20    # Number of features\n",
    "\n",
    "X = np.random.normal(0, 1, (n, p))\n",
    "\n",
    "beta = np.array([1, 0.5, -0.5, 0, 1.5, 0, -1, 0.5, 0, 0, 1, 0, -0.5, 0, 1, 0, 0.5, -1, 0, 0])\n",
    "\n",
    "epsilon = np.random.normal(0, 0.1, n)\n",
    "\n",
    "y = np.dot(X, beta) + epsilon\n",
    "\n",
    "pd.DataFrame(X, columns=[f'X{i+1}' for i in range(p)]).head(), pd.Series(y, name='y').head()\n"
   ]
  },
  {
   "cell_type": "markdown",
   "id": "2278cee4",
   "metadata": {},
   "source": [
    "Your answer:\n",
    "\n",
    "~~~\n",
    "Please write your answer in full sentences.\n",
    "\n",
    "\n",
    "~~~\n",
    "\n",
    "(b) Split your data set into a training set containing (100) observations and a test set containing (900) observations.\n",
    "\n",
    "\n",
    "Your code:"
   ]
  },
  {
   "cell_type": "code",
   "execution_count": 68,
   "id": "25ac076f",
   "metadata": {
    "Rmd_chunk_options": "echo=TRUE",
    "kernel": "Python3",
    "tags": [
     "report_cell"
    ]
   },
   "outputs": [
    {
     "name": "stdout",
     "output_type": "stream",
     "text": [
      "Training set size: X_train: (100, 20), y_train: (100,)\n",
      "Testing set size: X_test: (900, 20), y_test: (900,)\n"
     ]
    }
   ],
   "source": [
    "from sklearn.model_selection import train_test_split\n",
    "X_train, X_test, y_train, y_test = train_test_split(X, y, test_size=0.9, random_state=42, stratify=None)\n",
    "\n",
    "print(f\"Training set size: X_train: {X_train.shape}, y_train: {y_train.shape}\")\n",
    "print(f\"Testing set size: X_test: {X_test.shape}, y_test: {y_test.shape}\")\n",
    "\n"
   ]
  },
  {
   "cell_type": "markdown",
   "id": "23fd8626",
   "metadata": {},
   "source": [
    "Your answer:\n",
    "\n",
    "~~~\n",
    "Please write your answer in full sentences.\n",
    "\n",
    "\n",
    "~~~\n",
    "\n",
    "(c) Perform best subset selection on the training set, and plot the training set MSE associated with the best model of each size.\n",
    "\n",
    "Your code:"
   ]
  },
  {
   "cell_type": "code",
   "execution_count": 69,
   "id": "01e68f9a",
   "metadata": {
    "Rmd_chunk_options": "echo=TRUE",
    "kernel": "Python3",
    "tags": [
     "report_cell"
    ]
   },
   "outputs": [
    {
     "ename": "KeyboardInterrupt",
     "evalue": "",
     "output_type": "error",
     "traceback": [
      "\u001b[0;31m---------------------------------------------------------------------------\u001b[0m",
      "\u001b[0;31mKeyboardInterrupt\u001b[0m                         Traceback (most recent call last)",
      "Input \u001b[0;32mIn [69]\u001b[0m, in \u001b[0;36m<cell line: 11>\u001b[0;34m()\u001b[0m\n\u001b[1;32m     24\u001b[0m y_pred \u001b[38;5;241m=\u001b[39m model\u001b[38;5;241m.\u001b[39mpredict(X_train_subset)\n\u001b[1;32m     26\u001b[0m \u001b[38;5;66;03m# Calculate MSE\u001b[39;00m\n\u001b[0;32m---> 27\u001b[0m mse \u001b[38;5;241m=\u001b[39m \u001b[43mmean_squared_error\u001b[49m\u001b[43m(\u001b[49m\u001b[43my_train\u001b[49m\u001b[43m,\u001b[49m\u001b[43m \u001b[49m\u001b[43my_pred\u001b[49m\u001b[43m)\u001b[49m\n\u001b[1;32m     29\u001b[0m \u001b[38;5;66;03m# Update the minimum MSE and best subset if this model is better\u001b[39;00m\n\u001b[1;32m     30\u001b[0m \u001b[38;5;28;01mif\u001b[39;00m mse \u001b[38;5;241m<\u001b[39m min_mse:\n",
      "File \u001b[0;32m/opt/anaconda3/lib/python3.9/site-packages/sklearn/utils/_param_validation.py:213\u001b[0m, in \u001b[0;36mvalidate_params.<locals>.decorator.<locals>.wrapper\u001b[0;34m(*args, **kwargs)\u001b[0m\n\u001b[1;32m    207\u001b[0m \u001b[38;5;28;01mtry\u001b[39;00m:\n\u001b[1;32m    208\u001b[0m     \u001b[38;5;28;01mwith\u001b[39;00m config_context(\n\u001b[1;32m    209\u001b[0m         skip_parameter_validation\u001b[38;5;241m=\u001b[39m(\n\u001b[1;32m    210\u001b[0m             prefer_skip_nested_validation \u001b[38;5;129;01mor\u001b[39;00m global_skip_validation\n\u001b[1;32m    211\u001b[0m         )\n\u001b[1;32m    212\u001b[0m     ):\n\u001b[0;32m--> 213\u001b[0m         \u001b[38;5;28;01mreturn\u001b[39;00m \u001b[43mfunc\u001b[49m\u001b[43m(\u001b[49m\u001b[38;5;241;43m*\u001b[39;49m\u001b[43margs\u001b[49m\u001b[43m,\u001b[49m\u001b[43m \u001b[49m\u001b[38;5;241;43m*\u001b[39;49m\u001b[38;5;241;43m*\u001b[39;49m\u001b[43mkwargs\u001b[49m\u001b[43m)\u001b[49m\n\u001b[1;32m    214\u001b[0m \u001b[38;5;28;01mexcept\u001b[39;00m InvalidParameterError \u001b[38;5;28;01mas\u001b[39;00m e:\n\u001b[1;32m    215\u001b[0m     \u001b[38;5;66;03m# When the function is just a wrapper around an estimator, we allow\u001b[39;00m\n\u001b[1;32m    216\u001b[0m     \u001b[38;5;66;03m# the function to delegate validation to the estimator, but we replace\u001b[39;00m\n\u001b[1;32m    217\u001b[0m     \u001b[38;5;66;03m# the name of the estimator by the name of the function in the error\u001b[39;00m\n\u001b[1;32m    218\u001b[0m     \u001b[38;5;66;03m# message to avoid confusion.\u001b[39;00m\n\u001b[1;32m    219\u001b[0m     msg \u001b[38;5;241m=\u001b[39m re\u001b[38;5;241m.\u001b[39msub(\n\u001b[1;32m    220\u001b[0m         \u001b[38;5;124mr\u001b[39m\u001b[38;5;124m\"\u001b[39m\u001b[38;5;124mparameter of \u001b[39m\u001b[38;5;124m\\\u001b[39m\u001b[38;5;124mw+ must be\u001b[39m\u001b[38;5;124m\"\u001b[39m,\n\u001b[1;32m    221\u001b[0m         \u001b[38;5;124mf\u001b[39m\u001b[38;5;124m\"\u001b[39m\u001b[38;5;124mparameter of \u001b[39m\u001b[38;5;132;01m{\u001b[39;00mfunc\u001b[38;5;241m.\u001b[39m\u001b[38;5;18m__qualname__\u001b[39m\u001b[38;5;132;01m}\u001b[39;00m\u001b[38;5;124m must be\u001b[39m\u001b[38;5;124m\"\u001b[39m,\n\u001b[1;32m    222\u001b[0m         \u001b[38;5;28mstr\u001b[39m(e),\n\u001b[1;32m    223\u001b[0m     )\n",
      "File \u001b[0;32m/opt/anaconda3/lib/python3.9/site-packages/sklearn/metrics/_regression.py:497\u001b[0m, in \u001b[0;36mmean_squared_error\u001b[0;34m(y_true, y_pred, sample_weight, multioutput, squared)\u001b[0m\n\u001b[1;32m    492\u001b[0m     \u001b[38;5;28;01mif\u001b[39;00m \u001b[38;5;129;01mnot\u001b[39;00m squared:\n\u001b[1;32m    493\u001b[0m         \u001b[38;5;28;01mreturn\u001b[39;00m root_mean_squared_error(\n\u001b[1;32m    494\u001b[0m             y_true, y_pred, sample_weight\u001b[38;5;241m=\u001b[39msample_weight, multioutput\u001b[38;5;241m=\u001b[39mmultioutput\n\u001b[1;32m    495\u001b[0m         )\n\u001b[0;32m--> 497\u001b[0m y_type, y_true, y_pred, multioutput \u001b[38;5;241m=\u001b[39m \u001b[43m_check_reg_targets\u001b[49m\u001b[43m(\u001b[49m\n\u001b[1;32m    498\u001b[0m \u001b[43m    \u001b[49m\u001b[43my_true\u001b[49m\u001b[43m,\u001b[49m\u001b[43m \u001b[49m\u001b[43my_pred\u001b[49m\u001b[43m,\u001b[49m\u001b[43m \u001b[49m\u001b[43mmultioutput\u001b[49m\n\u001b[1;32m    499\u001b[0m \u001b[43m\u001b[49m\u001b[43m)\u001b[49m\n\u001b[1;32m    500\u001b[0m check_consistent_length(y_true, y_pred, sample_weight)\n\u001b[1;32m    501\u001b[0m output_errors \u001b[38;5;241m=\u001b[39m np\u001b[38;5;241m.\u001b[39maverage((y_true \u001b[38;5;241m-\u001b[39m y_pred) \u001b[38;5;241m*\u001b[39m\u001b[38;5;241m*\u001b[39m \u001b[38;5;241m2\u001b[39m, axis\u001b[38;5;241m=\u001b[39m\u001b[38;5;241m0\u001b[39m, weights\u001b[38;5;241m=\u001b[39msample_weight)\n",
      "File \u001b[0;32m/opt/anaconda3/lib/python3.9/site-packages/sklearn/metrics/_regression.py:102\u001b[0m, in \u001b[0;36m_check_reg_targets\u001b[0;34m(y_true, y_pred, multioutput, dtype)\u001b[0m\n\u001b[1;32m     68\u001b[0m \u001b[38;5;28;01mdef\u001b[39;00m \u001b[38;5;21m_check_reg_targets\u001b[39m(y_true, y_pred, multioutput, dtype\u001b[38;5;241m=\u001b[39m\u001b[38;5;124m\"\u001b[39m\u001b[38;5;124mnumeric\u001b[39m\u001b[38;5;124m\"\u001b[39m):\n\u001b[1;32m     69\u001b[0m     \u001b[38;5;124;03m\"\"\"Check that y_true and y_pred belong to the same regression task.\u001b[39;00m\n\u001b[1;32m     70\u001b[0m \n\u001b[1;32m     71\u001b[0m \u001b[38;5;124;03m    Parameters\u001b[39;00m\n\u001b[0;32m   (...)\u001b[0m\n\u001b[1;32m    100\u001b[0m \u001b[38;5;124;03m        correct keyword.\u001b[39;00m\n\u001b[1;32m    101\u001b[0m \u001b[38;5;124;03m    \"\"\"\u001b[39;00m\n\u001b[0;32m--> 102\u001b[0m     \u001b[43mcheck_consistent_length\u001b[49m\u001b[43m(\u001b[49m\u001b[43my_true\u001b[49m\u001b[43m,\u001b[49m\u001b[43m \u001b[49m\u001b[43my_pred\u001b[49m\u001b[43m)\u001b[49m\n\u001b[1;32m    103\u001b[0m     y_true \u001b[38;5;241m=\u001b[39m check_array(y_true, ensure_2d\u001b[38;5;241m=\u001b[39m\u001b[38;5;28;01mFalse\u001b[39;00m, dtype\u001b[38;5;241m=\u001b[39mdtype)\n\u001b[1;32m    104\u001b[0m     y_pred \u001b[38;5;241m=\u001b[39m check_array(y_pred, ensure_2d\u001b[38;5;241m=\u001b[39m\u001b[38;5;28;01mFalse\u001b[39;00m, dtype\u001b[38;5;241m=\u001b[39mdtype)\n",
      "File \u001b[0;32m/opt/anaconda3/lib/python3.9/site-packages/sklearn/utils/validation.py:427\u001b[0m, in \u001b[0;36mcheck_consistent_length\u001b[0;34m(*arrays)\u001b[0m\n\u001b[1;32m    416\u001b[0m \u001b[38;5;28;01mdef\u001b[39;00m \u001b[38;5;21mcheck_consistent_length\u001b[39m(\u001b[38;5;241m*\u001b[39marrays):\n\u001b[1;32m    417\u001b[0m     \u001b[38;5;124;03m\"\"\"Check that all arrays have consistent first dimensions.\u001b[39;00m\n\u001b[1;32m    418\u001b[0m \n\u001b[1;32m    419\u001b[0m \u001b[38;5;124;03m    Checks whether all objects in arrays have the same shape or length.\u001b[39;00m\n\u001b[0;32m   (...)\u001b[0m\n\u001b[1;32m    424\u001b[0m \u001b[38;5;124;03m        Objects that will be checked for consistent length.\u001b[39;00m\n\u001b[1;32m    425\u001b[0m \u001b[38;5;124;03m    \"\"\"\u001b[39;00m\n\u001b[0;32m--> 427\u001b[0m     lengths \u001b[38;5;241m=\u001b[39m [_num_samples(X) \u001b[38;5;28;01mfor\u001b[39;00m X \u001b[38;5;129;01min\u001b[39;00m arrays \u001b[38;5;28;01mif\u001b[39;00m X \u001b[38;5;129;01mis\u001b[39;00m \u001b[38;5;129;01mnot\u001b[39;00m \u001b[38;5;28;01mNone\u001b[39;00m]\n\u001b[1;32m    428\u001b[0m     uniques \u001b[38;5;241m=\u001b[39m np\u001b[38;5;241m.\u001b[39munique(lengths)\n\u001b[1;32m    429\u001b[0m     \u001b[38;5;28;01mif\u001b[39;00m \u001b[38;5;28mlen\u001b[39m(uniques) \u001b[38;5;241m>\u001b[39m \u001b[38;5;241m1\u001b[39m:\n",
      "File \u001b[0;32m/opt/anaconda3/lib/python3.9/site-packages/sklearn/utils/validation.py:427\u001b[0m, in \u001b[0;36m<listcomp>\u001b[0;34m(.0)\u001b[0m\n\u001b[1;32m    416\u001b[0m \u001b[38;5;28;01mdef\u001b[39;00m \u001b[38;5;21mcheck_consistent_length\u001b[39m(\u001b[38;5;241m*\u001b[39marrays):\n\u001b[1;32m    417\u001b[0m     \u001b[38;5;124;03m\"\"\"Check that all arrays have consistent first dimensions.\u001b[39;00m\n\u001b[1;32m    418\u001b[0m \n\u001b[1;32m    419\u001b[0m \u001b[38;5;124;03m    Checks whether all objects in arrays have the same shape or length.\u001b[39;00m\n\u001b[0;32m   (...)\u001b[0m\n\u001b[1;32m    424\u001b[0m \u001b[38;5;124;03m        Objects that will be checked for consistent length.\u001b[39;00m\n\u001b[1;32m    425\u001b[0m \u001b[38;5;124;03m    \"\"\"\u001b[39;00m\n\u001b[0;32m--> 427\u001b[0m     lengths \u001b[38;5;241m=\u001b[39m [\u001b[43m_num_samples\u001b[49m\u001b[43m(\u001b[49m\u001b[43mX\u001b[49m\u001b[43m)\u001b[49m \u001b[38;5;28;01mfor\u001b[39;00m X \u001b[38;5;129;01min\u001b[39;00m arrays \u001b[38;5;28;01mif\u001b[39;00m X \u001b[38;5;129;01mis\u001b[39;00m \u001b[38;5;129;01mnot\u001b[39;00m \u001b[38;5;28;01mNone\u001b[39;00m]\n\u001b[1;32m    428\u001b[0m     uniques \u001b[38;5;241m=\u001b[39m np\u001b[38;5;241m.\u001b[39munique(lengths)\n\u001b[1;32m    429\u001b[0m     \u001b[38;5;28;01mif\u001b[39;00m \u001b[38;5;28mlen\u001b[39m(uniques) \u001b[38;5;241m>\u001b[39m \u001b[38;5;241m1\u001b[39m:\n",
      "File \u001b[0;32m/opt/anaconda3/lib/python3.9/site-packages/sklearn/utils/validation.py:351\u001b[0m, in \u001b[0;36m_num_samples\u001b[0;34m(x)\u001b[0m\n\u001b[1;32m    347\u001b[0m \u001b[38;5;28;01mif\u001b[39;00m \u001b[38;5;28mhasattr\u001b[39m(x, \u001b[38;5;124m\"\u001b[39m\u001b[38;5;124mfit\u001b[39m\u001b[38;5;124m\"\u001b[39m) \u001b[38;5;129;01mand\u001b[39;00m callable(x\u001b[38;5;241m.\u001b[39mfit):\n\u001b[1;32m    348\u001b[0m     \u001b[38;5;66;03m# Don't get num_samples from an ensembles length!\u001b[39;00m\n\u001b[1;32m    349\u001b[0m     \u001b[38;5;28;01mraise\u001b[39;00m \u001b[38;5;167;01mTypeError\u001b[39;00m(message)\n\u001b[0;32m--> 351\u001b[0m \u001b[38;5;28;01mif\u001b[39;00m \u001b[43m_use_interchange_protocol\u001b[49m\u001b[43m(\u001b[49m\u001b[43mx\u001b[49m\u001b[43m)\u001b[49m:\n\u001b[1;32m    352\u001b[0m     \u001b[38;5;28;01mreturn\u001b[39;00m x\u001b[38;5;241m.\u001b[39m__dataframe__()\u001b[38;5;241m.\u001b[39mnum_rows()\n\u001b[1;32m    354\u001b[0m \u001b[38;5;28;01mif\u001b[39;00m \u001b[38;5;129;01mnot\u001b[39;00m \u001b[38;5;28mhasattr\u001b[39m(x, \u001b[38;5;124m\"\u001b[39m\u001b[38;5;124m__len__\u001b[39m\u001b[38;5;124m\"\u001b[39m) \u001b[38;5;129;01mand\u001b[39;00m \u001b[38;5;129;01mnot\u001b[39;00m \u001b[38;5;28mhasattr\u001b[39m(x, \u001b[38;5;124m\"\u001b[39m\u001b[38;5;124mshape\u001b[39m\u001b[38;5;124m\"\u001b[39m):\n",
      "File \u001b[0;32m/opt/anaconda3/lib/python3.9/site-packages/sklearn/utils/validation.py:288\u001b[0m, in \u001b[0;36m_use_interchange_protocol\u001b[0;34m(X)\u001b[0m\n\u001b[1;32m    281\u001b[0m \u001b[38;5;28;01mdef\u001b[39;00m \u001b[38;5;21m_use_interchange_protocol\u001b[39m(X):\n\u001b[1;32m    282\u001b[0m     \u001b[38;5;124;03m\"\"\"Use interchange protocol for non-pandas dataframes that follow the protocol.\u001b[39;00m\n\u001b[1;32m    283\u001b[0m \n\u001b[1;32m    284\u001b[0m \u001b[38;5;124;03m    Note: at this point we chose not to use the interchange API on pandas dataframe\u001b[39;00m\n\u001b[1;32m    285\u001b[0m \u001b[38;5;124;03m    to ensure strict behavioral backward compatibility with older versions of\u001b[39;00m\n\u001b[1;32m    286\u001b[0m \u001b[38;5;124;03m    scikit-learn.\u001b[39;00m\n\u001b[1;32m    287\u001b[0m \u001b[38;5;124;03m    \"\"\"\u001b[39;00m\n\u001b[0;32m--> 288\u001b[0m     \u001b[38;5;28;01mreturn\u001b[39;00m \u001b[38;5;129;01mnot\u001b[39;00m \u001b[43m_is_pandas_df\u001b[49m\u001b[43m(\u001b[49m\u001b[43mX\u001b[49m\u001b[43m)\u001b[49m \u001b[38;5;129;01mand\u001b[39;00m \u001b[38;5;28mhasattr\u001b[39m(X, \u001b[38;5;124m\"\u001b[39m\u001b[38;5;124m__dataframe__\u001b[39m\u001b[38;5;124m\"\u001b[39m)\n",
      "\u001b[0;31mKeyboardInterrupt\u001b[0m: "
     ]
    }
   ],
   "source": [
    "from sklearn.metrics import mean_squared_error\n",
    "from sklearn.linear_model import LinearRegression\n",
    "from itertools import combinations\n",
    "import matplotlib.pyplot as plt\n",
    "\n",
    "# Initialize variables to store the results\n",
    "min_mse_per_size = []\n",
    "best_subset_per_size = []\n",
    "\n",
    "# Loop over model sizes (1 to p)\n",
    "for k in range(1, p + 1):\n",
    "    min_mse = np.inf\n",
    "    best_subset = None\n",
    "    \n",
    "    # Generate all possible combinations of feature indices for the current model size\n",
    "    for combo in combinations(range(p), k):\n",
    "        # Select only the features in the current combination\n",
    "        X_train_subset = X_train[:, combo]\n",
    "        \n",
    "        # Fit a linear model\n",
    "        model = LinearRegression().fit(X_train_subset, y_train)\n",
    "        \n",
    "        # Predict on the training set\n",
    "        y_pred = model.predict(X_train_subset)\n",
    "        \n",
    "        # Calculate MSE\n",
    "        mse = mean_squared_error(y_train, y_pred)\n",
    "        \n",
    "        # Update the minimum MSE and best subset if this model is better\n",
    "        if mse < min_mse:\n",
    "            min_mse = mse\n",
    "            best_subset = combo\n",
    "    \n",
    "    # Store the best model's info for this size\n",
    "    min_mse_per_size.append(min_mse)\n",
    "    best_subset_per_size.append(best_subset)\n",
    "\n",
    "# Plotting the training set MSE for the best model of each size\n",
    "plt.figure(figsize=(10, 6))\n",
    "plt.plot(range(1, p + 1), min_mse_per_size, marker='o')\n",
    "plt.xlabel('Number of Features')\n",
    "plt.ylabel('Training Set MSE')\n",
    "plt.title('Best Subset Selection: Training MSE vs. Model Size')\n",
    "plt.grid(True)\n",
    "plt.show()\n"
   ]
  },
  {
   "cell_type": "markdown",
   "id": "7832cd35",
   "metadata": {},
   "source": [
    "Your answer:\n",
    "\n",
    "~~~\n",
    "Please write your answer in full sentences.\n",
    "\n",
    "\n",
    "~~~\n",
    "\n",
    "(d) Plot the test set MSE associated with the best model of each size.\n",
    "\n",
    "Your code:"
   ]
  },
  {
   "cell_type": "code",
   "execution_count": 71,
   "id": "5a7a9b8b",
   "metadata": {
    "Rmd_chunk_options": "echo=TRUE",
    "kernel": "Python3",
    "tags": [
     "report_cell"
    ]
   },
   "outputs": [],
   "source": [
    "test_mse_per_size = []\n",
    "\n",
    "for subset in best_subset_per_size:\n",
    "    X_train_subset = X_train[:, subset]\n",
    "    X_test_subset = X_test[:, subset]\n",
    "    \n",
    "    model = LinearRegression().fit(X_train_subset, y_train)\n",
    "    \n",
    "    y_pred_test = model.predict(X_test_subset)\n",
    "    \n",
    "    # Calculate and store the MSE for the test set\n",
    "    mse_test = mean_squared_error(y_test, y_pred_test)\n",
    "    test_mse_per_size.append(mse_test)\n",
    "\n",
    "plt.figure(figsize=(10, 6))\n",
    "plt.plot(range(1, p + 1), test_mse_per_size, marker='o', color='red')\n",
    "plt.xlabel('Number of Features')\n",
    "plt.ylabel('Test Set MSE')\n",
    "plt.title('Best Subset Selection: Test MSE vs. Model Size')\n",
    "plt.grid(True)\n",
    "plt.show()\n"
   ]
  },
  {
   "cell_type": "markdown",
   "id": "8999638c",
   "metadata": {},
   "source": [
    "Your answer:\n",
    "\n",
    "~~~\n",
    "Please write your answer in full sentences.\n",
    "\n",
    "\n",
    "~~~\n",
    "(e) For which model size does the test set MSE take on its minimum value? Comment on your results. If it takes on its minimum value for a model containing only an intercept or a model containing all of the features, then play around with the way that you are generating the data in (a) until you come up with a scenario in which the test set MSE is minimized for an intermediate model size.\n",
    "\n",
    "Your code:"
   ]
  },
  {
   "cell_type": "code",
   "execution_count": 72,
   "id": "5c0d3857",
   "metadata": {
    "Rmd_chunk_options": "echo=TRUE",
    "kernel": "Python3",
    "tags": [
     "report_cell"
    ]
   },
   "outputs": [
    {
     "name": "stdout",
     "output_type": "stream",
     "text": [
      "The optimal model size is: 11 features\n"
     ]
    }
   ],
   "source": [
    "min_mse = min(test_mse_per_size)  # Find the minimum MSE\n",
    "optimal_model_size = test_mse_per_size.index(min_mse) + 1  # Find the model size with the minimum MSE\n",
    "\n",
    "print(f\"The optimal model size is: {optimal_model_size} features\")\n"
   ]
  },
  {
   "cell_type": "markdown",
   "id": "079648c2",
   "metadata": {},
   "source": [
    "Your answer:\n",
    "\n",
    "~~~\n",
    "Please write your answer in full sentences.\n",
    "\n",
    "\n",
    "~~~\n",
    "\n",
    "(f) How does the model at which the test set MSE is minimized compare to the true model used to generate the data? Comment on the coefficient values.\n",
    "\n",
    "\n",
    "Your code:"
   ]
  },
  {
   "cell_type": "code",
   "execution_count": 28,
   "id": "af1a92ff",
   "metadata": {
    "Rmd_chunk_options": "echo=TRUE",
    "kernel": "Python3",
    "tags": [
     "report_cell"
    ]
   },
   "outputs": [],
   "source": [
    "from sklearn.linear_model import LinearRegression\n",
    "\n",
    "optimal_feature_indices = [0, 2, 4, 5]  \n",
    "optimal_model = LinearRegression().fit(X_train[:, optimal_feature_indices], y_train)\n",
    "\n",
    "optimal_model_coefficients = optimal_model.coef_\n",
    "true_coefficients = beta[optimal_feature_indices]\n",
    "\n",
    "print(\"Optimal Model Coefficients:\", optimal_model_coefficients)\n",
    "print(\"True Coefficients for Selected Features:\", true_coefficients)"
   ]
  },
  {
   "cell_type": "markdown",
   "id": "956f6a8a",
   "metadata": {},
   "source": [
    "Your answer:\n",
    "\n",
    "~~~\n",
    "Please write your answer in full sentences.\n",
    "\n",
    "\n",
    "~~~\n",
    "\n",
    "(g) Create a plot displaying $\\sqrt{\\sum_{j=1}^{p}(\\beta_{j}-\\hat{\\beta}_{j}^{r})^{2}}$ for a range of values of ($r$), where $\\hat{\\beta}_{j}^{r}$ is the $j$th coefficient estimate for the best model containing ($r$) coefficients. Comment on what you observe. How does this compare to the test MSE plot from (d)?\n",
    "\n",
    "\n",
    "Your code:"
   ]
  },
  {
   "cell_type": "code",
   "execution_count": 29,
   "id": "d66b71ea",
   "metadata": {
    "Rmd_chunk_options": "echo=TRUE",
    "kernel": "Python3",
    "tags": [
     "report_cell"
    ]
   },
   "outputs": [],
   "source": [
    "#\n",
    "#"
   ]
  },
  {
   "cell_type": "markdown",
   "id": "04c04ede",
   "metadata": {},
   "source": [
    "Your answer:\n",
    "\n",
    "~~~\n",
    "Please write your answer in full sentences.\n",
    "\n",
    "\n",
    "~~~"
   ]
  },
  {
   "cell_type": "markdown",
   "id": "19bbd812",
   "metadata": {},
   "source": [
    "### Boston\n",
    "\n",
    "We will now try to predict per capita crime rate in the Boston data set."
   ]
  },
  {
   "cell_type": "code",
   "execution_count": 73,
   "id": "66a478bf",
   "metadata": {
    "kernel": "Python3",
    "tags": [
     "report_cell"
    ]
   },
   "outputs": [
    {
     "name": "stdout",
     "output_type": "stream",
     "text": [
      "<class 'pandas.core.frame.DataFrame'>\n",
      "RangeIndex: 506 entries, 0 to 505\n",
      "Data columns (total 13 columns):\n",
      " #   Column   Non-Null Count  Dtype  \n",
      "---  ------   --------------  -----  \n",
      " 0   crim     506 non-null    float64\n",
      " 1   zn       506 non-null    float64\n",
      " 2   indus    506 non-null    float64\n",
      " 3   chas     506 non-null    int64  \n",
      " 4   nox      506 non-null    float64\n",
      " 5   rm       506 non-null    float64\n",
      " 6   age      506 non-null    float64\n",
      " 7   dis      506 non-null    float64\n",
      " 8   rad      506 non-null    int64  \n",
      " 9   tax      506 non-null    int64  \n",
      " 10  ptratio  506 non-null    float64\n",
      " 11  lstat    506 non-null    float64\n",
      " 12  medv     506 non-null    float64\n",
      "dtypes: float64(10), int64(3)\n",
      "memory usage: 51.5 KB\n"
     ]
    }
   ],
   "source": [
    "Boston = load_data(\"Boston\")\n",
    "Boston.info()"
   ]
  },
  {
   "cell_type": "markdown",
   "id": "f2b08af1",
   "metadata": {},
   "source": [
    "(a) Try out some of the regression methods explored in this chapter, such as best subset selection, the lasso, ridge regression, and PCR. Present and discuss results for the approaches that you consider.\n",
    "\n",
    "\n",
    "Your code:"
   ]
  },
  {
   "cell_type": "code",
   "execution_count": 76,
   "id": "c82dfd3b",
   "metadata": {
    "Rmd_chunk_options": "echo=TRUE",
    "kernel": "Python3",
    "tags": [
     "report_cell"
    ]
   },
   "outputs": [
    {
     "name": "stdout",
     "output_type": "stream",
     "text": [
      "Lasso Regression Test MSE: 23.9525653347613\n",
      "Ridge Regression Test MSE: 21.123935606769113\n",
      "PCR Test MSE: 56.8677080957591\n"
     ]
    }
   ],
   "source": [
    "X = Boston.drop('medv', axis = 1)\n",
    "y = Boston['medv']\n",
    "# Split the data into training and testing sets\n",
    "X_train, X_test, y_train, y_test = train_test_split(X, y, test_size=0.3, random_state=42)\n",
    "\n",
    "# Lasso regression with cross-validation\n",
    "lasso_cv = LassoCV(cv=5, random_state=0, max_iter=10000)\n",
    "lasso_cv.fit(X_train, y_train)\n",
    "\n",
    "# Evaluate performance\n",
    "y_pred_lasso = lasso_cv.predict(X_test)\n",
    "mse_lasso = mean_squared_error(y_test, y_pred_lasso)\n",
    "print(f\"Lasso Regression Test MSE: {mse_lasso}\")\n",
    "\n",
    "ridge_cv = RidgeCV(alphas=np.logspace(-6, 6, 13), cv=5)\n",
    "ridge_cv.fit(X_train, y_train)\n",
    "\n",
    "# Evaluate performance\n",
    "y_pred_ridge = ridge_cv.predict(X_test)\n",
    "mse_ridge = mean_squared_error(y_test, y_pred_ridge)\n",
    "print(f\"Ridge Regression Test MSE: {mse_ridge}\")\n",
    "\n",
    "pca = PCA(n_components=0.95)  # Retain 95% of variance\n",
    "linear_reg = LinearRegression()\n",
    "pipeline = Pipeline(steps=[('pca', pca), ('linear_regression', linear_reg)])\n",
    "pipeline.fit(X_train, y_train)\n",
    "\n",
    "# Evaluate performance\n",
    "y_pred_pcr = pipeline.predict(X_test)\n",
    "mse_pcr = mean_squared_error(y_test, y_pred_pcr)\n",
    "print(f\"PCR Test MSE: {mse_pcr}\")"
   ]
  },
  {
   "cell_type": "markdown",
   "id": "82f82816",
   "metadata": {},
   "source": [
    "Your answer:\n",
    "\n",
    "~~~\n",
    "Please write your answer in full sentences.\n",
    "\n",
    "\n",
    "~~~\n",
    "\n",
    "(b) Propose a model (or set of models) that seem to perform well on this data set, and justify your answer. Make sure that you are evaluating model performance using validation set error, crossvalidation, or some other reasonable alternative, as opposed to using training error.\n",
    "\n",
    "\n",
    "Your code:"
   ]
  },
  {
   "cell_type": "code",
   "execution_count": 77,
   "id": "9491a43c",
   "metadata": {
    "Rmd_chunk_options": "echo=TRUE",
    "kernel": "Python3",
    "tags": [
     "report_cell"
    ]
   },
   "outputs": [
    {
     "name": "stdout",
     "output_type": "stream",
     "text": [
      "Mean CV MSE for Lasso: 40.33947345916193\n",
      "Mean CV MSE for Ridge: 40.66717660343059\n",
      "Mean CV MSE for PCR: 36.22534209597718\n"
     ]
    }
   ],
   "source": [
    "from sklearn.model_selection import cross_val_score\n",
    "from sklearn.preprocessing import StandardScaler\n",
    "from sklearn.pipeline import Pipeline\n",
    "from sklearn.linear_model import LassoCV, RidgeCV\n",
    "from sklearn.decomposition import PCA\n",
    "from sklearn.metrics import make_scorer\n",
    "\n",
    "mse_scorer = make_scorer(mean_squared_error, greater_is_better=False)\n",
    "\n",
    "lasso_model = LassoCV(cv=5, random_state=42)\n",
    "\n",
    "ridge_model = RidgeCV(cv=5, alphas=np.logspace(-6, 6, 13))\n",
    "\n",
    "pca = PCA()\n",
    "linear_reg = LinearRegression()\n",
    "pcr_model = Pipeline(steps=[('scaler', StandardScaler()), ('pca', pca), ('linear_regression', linear_reg)])\n",
    "\n",
    "lasso_scores = cross_val_score(lasso_model, X, y, cv=5, scoring=mse_scorer)\n",
    "ridge_scores = cross_val_score(ridge_model, X, y, cv=5, scoring=mse_scorer)\n",
    "pcr_scores = cross_val_score(pcr_model, X, y, cv=5, scoring=mse_scorer)\n",
    "\n",
    "mean_mse_lasso = -np.mean(lasso_scores)\n",
    "mean_mse_ridge = -np.mean(ridge_scores)\n",
    "mean_mse_pcr = -np.mean(pcr_scores)\n",
    "\n",
    "print(\"Mean CV MSE for Lasso:\", mean_mse_lasso)\n",
    "print(\"Mean CV MSE for Ridge:\", mean_mse_ridge)\n",
    "print(\"Mean CV MSE for PCR:\", mean_mse_pcr)\n"
   ]
  },
  {
   "cell_type": "markdown",
   "id": "6ac49bd8",
   "metadata": {},
   "source": [
    "Your answer:\n",
    "\n",
    "~~~\n",
    "Please write your answer in full sentences.\n",
    "\n",
    "\n",
    "~~~\n",
    "\n",
    "(c) Does your chosen model involve all of the features in the data set? Why or why not?\n",
    "\n",
    "\n",
    "Your code:"
   ]
  },
  {
   "cell_type": "markdown",
   "id": "e279f278",
   "metadata": {},
   "source": [
    "Your answer:\n",
    "\n",
    "~~~\n",
    "The involvement of all features in the chosen model depends on the specific characteristics of the dataset and the model's approach to regularization or dimensionality reduction:\n",
    "\n",
    "Lasso might exclude some features entirely if they are deemed not informative.\n",
    "Ridge tends to use all features but with adjusted coefficient sizes to manage overfitting.\n",
    "PCR uses a transformed subset of features (principal components), which may represent all original features but does not directly use them in their original form.\n",
    "The choice between these models, based on cross-validation performance, reflects a trade-off between bias and variance, as well as the dataset's specific structure and the inherent information content of its features.\n",
    "\n",
    "\n",
    "~~~\n",
    "\n",
    "\n",
    "\n",
    "~~~"
   ]
  },
  {
   "cell_type": "markdown",
   "id": "d0dd42cd",
   "metadata": {},
   "source": [
    "## Additional Material"
   ]
  },
  {
   "cell_type": "markdown",
   "id": "fb94ff4c",
   "metadata": {},
   "source": [
    "### [Advanced] Regularized Regression using Predictive Modeling Platforms in R"
   ]
  },
  {
   "cell_type": "markdown",
   "id": "5fc4edf9",
   "metadata": {},
   "source": [
    "#### scikit-learn\n",
    "\n",
    "Sklearn is probably the goto for most of what you will do on your computer.\n",
    "Many ways of doing the parameter tuning is described in the lab for your ISLP textbook."
   ]
  },
  {
   "cell_type": "code",
   "execution_count": 34,
   "id": "2b25cc43",
   "metadata": {
    "Rmd_chunk_options": "echo=TRUE",
    "kernel": "Python3",
    "tags": [
     "report_cell"
    ]
   },
   "outputs": [],
   "source": [
    "from sklearn.model_selection import train_test_split\n",
    "# split the data\n",
    "X_train0, X_test, y_train0, y_test = train_test_split(ames_raw.loc[:,ames_raw.columns != \"SalePrice\"], ames_raw.loc[:,\"SalePrice\"], test_size=0.33, random_state=42)\n",
    "\n",
    "X_train, X_val, y_train, y_val = train_test_split( X_train0, y_train0, test_size=0.25, random_state=11)\n",
    "\n",
    "train_df = pd.concat([X_train, y_train], axis=1)\n",
    "valid_df = pd.concat([X_val, y_val], axis=1)\n",
    "test_df = pd.concat([X_test, y_test], axis=1)"
   ]
  },
  {
   "cell_type": "markdown",
   "id": "bb9845e3",
   "metadata": {},
   "source": [
    "#### PySpark\n",
    "\n",
    "[Apache Spark](https://spark.apache.org/docs/3.1.3/api/python/index.html) is a popular large data handling platform.  Over the years, they built Machine Learning capabilities in MLlib.\n",
    "https://www.machinelearningplus.com/pyspark/pyspark-ridge-regression/"
   ]
  },
  {
   "cell_type": "code",
   "execution_count": 35,
   "id": "0f739d37",
   "metadata": {
    "Rmd_chunk_options": "eval=FALSE, echo=TRUE",
    "kernel": "Python3",
    "tags": [
     "report_cell"
    ]
   },
   "outputs": [
    {
     "ename": "ModuleNotFoundError",
     "evalue": "No module named 'pyspark'",
     "output_type": "error",
     "traceback": [
      "\u001b[0;31m---------------------------------------------------------------------------\u001b[0m",
      "\u001b[0;31mModuleNotFoundError\u001b[0m                       Traceback (most recent call last)",
      "Input \u001b[0;32mIn [35]\u001b[0m, in \u001b[0;36m<cell line: 1>\u001b[0;34m()\u001b[0m\n\u001b[0;32m----> 1\u001b[0m \u001b[38;5;28;01mimport\u001b[39;00m \u001b[38;5;21;01mpyspark\u001b[39;00m\n\u001b[1;32m      2\u001b[0m \u001b[38;5;28;01mimport\u001b[39;00m \u001b[38;5;21;01mos\u001b[39;00m\n\u001b[1;32m      3\u001b[0m os\u001b[38;5;241m.\u001b[39menviron[\u001b[38;5;124m\"\u001b[39m\u001b[38;5;124mPYARROW_IGNORE_TIMEZONE\u001b[39m\u001b[38;5;124m\"\u001b[39m] \u001b[38;5;241m=\u001b[39m \u001b[38;5;124m\"\u001b[39m\u001b[38;5;124m1\u001b[39m\u001b[38;5;124m\"\u001b[39m\n",
      "\u001b[0;31mModuleNotFoundError\u001b[0m: No module named 'pyspark'"
     ]
    }
   ],
   "source": [
    "import pyspark\n",
    "import os\n",
    "os.environ[\"PYARROW_IGNORE_TIMEZONE\"] = \"1\"\n",
    "import pyspark.pandas as ps\n",
    "from pyspark.sql import SparkSession\n",
    "from pyspark.ml.regression import LinearRegression\n",
    "from pyspark.ml.linalg import Vectors\n",
    "from pyspark.ml.feature import VectorAssembler\n",
    "from pyspark.ml.evaluation import RegressionEvaluator\n",
    "from pyspark.ml.tuning import CrossValidator, ParamGridBuilder\n",
    "\n",
    "import tempfile\n",
    "from ISLP import load_data"
   ]
  },
  {
   "cell_type": "code",
   "execution_count": null,
   "id": "61f0f46b",
   "metadata": {
    "Rmd_chunk_options": "eval=FALSE, echo=TRUE",
    "kernel": "Python3",
    "tags": [
     "report_cell"
    ]
   },
   "outputs": [
    {
     "name": "stderr",
     "output_type": "stream",
     "text": [
      "Setting default log level to \"WARN\".\n",
      "To adjust logging level use sc.setLogLevel(newLevel). For SparkR, use setLogLevel(newLevel).\n",
      "24/01/13 12:55:58 WARN NativeCodeLoader: Unable to load native-hadoop library for your platform... using builtin-java classes where applicable\n"
     ]
    }
   ],
   "source": [
    "spark = SparkSession.builder.appName(\"Ridge_test\").getOrCreate()"
   ]
  },
  {
   "cell_type": "code",
   "execution_count": null,
   "id": "d2bf248c",
   "metadata": {
    "Rmd_chunk_options": "eval=FALSE, echo=TRUE",
    "kernel": "Python3",
    "tags": [
     "report_cell"
    ]
   },
   "outputs": [],
   "source": [
    "Boston = load_data(\"Boston\")\n",
    "dataset = spark.createDataFrame(Boston)\n",
    "from pyspark.ml.feature import VectorAssembler\n",
    "# Define the feature and label columns & Assemble the feature vector\n",
    "assembler = VectorAssembler(\n",
    "    inputCols=[\"crim\", \"zn\", \"indus\", \"chas\", \"nox\", \"rm\", \"age\", \"dis\", \"rad\", \"tax\", \"ptratio\",\"lstat\"],\n",
    "    outputCol=\"features\")\n",
    "\n",
    "dataset = assembler.transform(dataset)\n",
    "final_data = dataset.select(\"features\", \"medv\")\n",
    "\n",
    "# Split the data into training and test sets\n",
    "train_data, test_data = final_data.randomSplit([0.8, 0.2], seed=42)\n",
    "\n",
    "ridge_regression = LinearRegression(featuresCol=\"features\", labelCol=\"medv\", elasticNetParam=0)\n",
    "# Define the hyperparameter grid\n",
    "param_grid = ParamGridBuilder() \\\n",
    "    .addGrid(ridge_regression.regParam, [0.001, 0.01, 0.1, 1.0]) \\\n",
    "    .build()\n",
    "\n",
    "# Create the cross-validator\n",
    "evaluator = RegressionEvaluator(predictionCol=\"prediction\", labelCol= \"medv\", metricName=\"rmse\")\n",
    "cross_validator = CrossValidator(estimator=ridge_regression,\n",
    "                                 estimatorParamMaps=param_grid,\n",
    "                                 evaluator=evaluator,\n",
    "                                 numFolds=5)\n",
    "\n",
    "# Train the model with the best hyperparameters\n",
    "cv_model = cross_validator.fit(train_data)\n",
    "ridge_model = cv_model.bestModel\n",
    "\n",
    "coefficients = ridge_model.coefficients\n",
    "intercept = ridge_model.intercept\n",
    "\n",
    "print(\"Coefficients: \", coefficients)\n",
    "print(\"Intercept: {:.3f}\".format(intercept))\n",
    "# Make predictions on the test data\n",
    "predictions = ridge_model.transform(test_data)\n",
    "\n",
    "# Evaluate the model\n",
    "rmse = evaluator.evaluate(predictions)\n",
    "r2 = RegressionEvaluator(predictionCol=\"prediction\", labelCol=\"medv\", metricName=\"r2\").evaluate(predictions)\n",
    "\n",
    "print(\"Root Mean Squared Error (RMSE):\", rmse)\n",
    "print(\"Coefficient of Determination (R2):\", r2)"
   ]
  },
  {
   "cell_type": "markdown",
   "id": "2430601f",
   "metadata": {},
   "source": [
    "##### Save and load the model"
   ]
  },
  {
   "cell_type": "code",
   "execution_count": null,
   "id": "116c1daa",
   "metadata": {
    "Rmd_chunk_options": "eval=FALSE, echo=TRUE",
    "kernel": "Python3",
    "tags": [
     "report_cell"
    ]
   },
   "outputs": [],
   "source": [
    "# Save the model\n",
    "ridge_model.save(\"ridge_model\")\n",
    "\n",
    "# Load the model\n",
    "from pyspark.ml.regression import LinearRegressionModel\n",
    "loaded_model = LinearRegressionModel.load(\"ridge_model\")"
   ]
  },
  {
   "cell_type": "markdown",
   "id": "87f64e05",
   "metadata": {},
   "source": [
    "##### Stop pyspark"
   ]
  },
  {
   "cell_type": "code",
   "execution_count": null,
   "id": "2303090b",
   "metadata": {
    "Rmd_chunk_options": "eval=FALSE, echo=TRUE",
    "kernel": "Python3",
    "tags": [
     "report_cell"
    ]
   },
   "outputs": [],
   "source": [
    "spark.stop()"
   ]
  },
  {
   "cell_type": "markdown",
   "id": "dca3718d",
   "metadata": {},
   "source": [
    "#### Regularized regression using h2o"
   ]
  },
  {
   "cell_type": "code",
   "execution_count": null,
   "id": "80ceb054",
   "metadata": {
    "Rmd_chunk_options": "echo=show_code,eval=FALSE",
    "kernel": "Python3",
    "tags": [
     "report_cell"
    ]
   },
   "outputs": [],
   "source": [
    "# load packages and data\n",
    "import h2o\n",
    "localH2O = h2o.init(nthreads = -1, max_mem_size=\"4g\")\n",
    "\n",
    "train_hf = h2o.H2OFrame(train_df)\n",
    "valid_hf = h2o.H2OFrame(valid_df)\n",
    "test_hf = h2o.H2OFrame(test_df)"
   ]
  },
  {
   "cell_type": "markdown",
   "id": "72192bbb",
   "metadata": {},
   "source": [
    "##### Fitting Ridge regression with grid search\n",
    "\n",
    "H2O has a few hyperparameter search defined.\n",
    "https://docs.h2o.ai/h2o/latest-stable/h2o-docs/grid-search.html#grid-search-in-python"
   ]
  },
  {
   "cell_type": "code",
   "execution_count": null,
   "id": "dcc8cb8e",
   "metadata": {
    "Rmd_chunk_options": "h2o_fit_glm,echo=show_code,eval=FALSE",
    "kernel": "Python3",
    "tags": [
     "report_cell"
    ]
   },
   "outputs": [],
   "source": [
    "from h2o.estimators.glm import H2OGeneralizedLinearEstimator\n",
    "from h2o.grid.grid_search import H2OGridSearch\n",
    "\n",
    "predictors = [\"SalePrice\",\"Lot Area\",\"Gr Liv Area\",\"Full Bath\"]\n",
    "response = \"SalePrice\"\n",
    "glm_h2o_model = H2OGeneralizedLinearEstimator(family=\"gaussian\",\n",
    "                                      lambda_=0,\n",
    "                                      compute_p_values=True,\n",
    "                                      nfolds = 5)\n",
    "glm_h2o_model.train(x=predictors, y=response, training_frame=train_hf)\n",
    "\n",
    "\n",
    "hyper_params = {'alpha': [0,0.5,1],\n",
    "                  'lambda':[10**-7,10**-6,10**-5,10**-4]}\n",
    "\n",
    "# Train and validate a cartesian grid of GBMs\n",
    "glm_grid1 = H2OGridSearch(model=H2OGeneralizedLinearEstimator,\n",
    "                          grid_id='glm_grid1',\n",
    "                          hyper_params=hyper_params)\n",
    "glm_grid1.train(x=predictors, y=response,\n",
    "                training_frame=train_hf,\n",
    "                validation_frame=valid_hf,\n",
    "                seed=1)\n",
    "\n",
    "# Get the grid results, sorted by validation AUC\n",
    "glm_gridperf1 = glm_grid1.get_grid(sort_by='r2', decreasing=True)\n",
    "glm_gridperf1\n",
    "\n",
    "# Grab the top GBM model, chosen by validation AUC\n",
    "best_glm1 = glm_gridperf1.models[0]\n",
    "\n",
    "# Now let's evaluate the model performance on a test set\n",
    "# so we get an honest estimate of top model performance\n",
    "best_glm_perf1 = best_glm1.model_performance(test_hf)\n",
    "\n",
    "best_glm_perf1.mse()\n",
    "# 0.7781778619721595\n",
    "\n",
    "#prediction=predict(best_model,newdata = test_hf)\n",
    "#h2o.exportFile(prediction, \"/tmp/pred.csv\", force = TRUE) #export prediction result as a file\n"
   ]
  },
  {
   "cell_type": "code",
   "execution_count": null,
   "id": "89edc326",
   "metadata": {},
   "outputs": [],
   "source": [
    "h2o.shutdown()"
   ]
  },
  {
   "cell_type": "markdown",
   "id": "09d687c7",
   "metadata": {},
   "source": [
    "## Advanced Content"
   ]
  },
  {
   "cell_type": "markdown",
   "id": "e2eab0d3",
   "metadata": {},
   "source": [
    "### Stein's Estimator and shrinkage\n",
    "So far, we have seen how least squares perform well, even in cases where the true model is not linear.  Then, the natural question we may ask is, can we find an estimator that is better than least squares?  Which <cite data-cite=\"16598153/A59N9N5V\"></cite> worked on, and later <cite data-cite=\"16598153/M2VTBEWL\"></cite> improved upon. It is called the James-Stein estimator or just Stein's estimator.\n",
    "\n",
    "Stein's estimator is defined as \\footnote{In general Stein estimator is $(1-\\alpha)\\hat{\\boldsymbol{\\beta}}_{LS}$ for some positive number $\\alpha$ less than 1.  }\n",
    "$$\\tilde{\\boldsymbol{\\beta}}_{stein}=\\left(1-\\frac{(p-2)\\sigma^2}{\\parallel \\hat{\\boldsymbol{\\beta}}_{LS}\\parallel^2}\\right)\\hat{\\boldsymbol{\\beta}}_{LS}$$.\n",
    "\n",
    "According to Stein, for $p>2$\n",
    "\\begin{eqnarray*}\n",
    "E\\parallel \\tilde{\\boldsymbol{\\beta}}_{stein} - \\boldsymbol{\\beta}_{best}\\parallel^2\\leq E\\parallel \\tilde{\\boldsymbol{\\beta}}_{LS} -\\boldsymbol{\\beta}_{best}\\parallel^2\n",
    "\\end{eqnarray*}\n",
    "\n",
    "To put it in simple English, the estimator obtained by shirking the LS estimator by $\\left(1-\\frac{(p-2)\\sigma^2}{\\parallel \\hat{\\boldsymbol{\\beta}}_{LS}\\parallel^2}\\right)$ is a better estimator than LS.  This is puzzling if you think carefully about it, given that LS is BLUE. Also, there is not even a tuning parameter. The only thing that seems to matter is $\\frac{\\sigma^2}{\\parallel \\hat{\\boldsymbol{\\beta}}_{LS}\\parallel^2}$.  The proof is not hard; you can find it at the bottom.  But the important takeaway message is that we can do better than LS by shrinking the estimates."
   ]
  },
  {
   "cell_type": "markdown",
   "id": "f2cb9d72",
   "metadata": {},
   "source": [
    "### Methods to Control Model Complexity\n",
    "\n",
    "Regression is used for a variety of problems\n",
    "  - prediction: stock price in the future\n",
    "\t- estimation: denoising, smoothing\n",
    "\t- understanding: figure out what variable(s) are important\n",
    "\n",
    "A critical characteristic in all situations is that we want a generalizable model. Thus, we often prefer a simpler model over a complex model (why?).  This principle is called Occam's razor.  (Note that a simpler model does not guarantee generalizability. )\n",
    "What methods are available for us to control the model complexity?\n",
    "\n",
    "For orthogonal $X_j$ $j=1,\\cdots,p$, we can use the shrinkage method as we saw in the Stein estimator $$\\tilde{\\boldsymbol{\\beta}}=\\hat{\\boldsymbol{\\beta}}_{LS}\\left(1-\\frac{(p-2)\\sigma^2}{\\parallel\\hat{\\boldsymbol{\\beta}}_{LS}\\parallel^2}\\right)$$\n",
    "\n",
    "Another method is to use a threshold.  There is hard thresholding, where we set all the coefficients that do not pass a certain threshold to zero.\n",
    "\\begin{eqnarray}\n",
    "\\tilde{\\beta}_j=\\hat{\\beta}_j1_{\\hat{\\beta}_j>\\lambda}=\\left\\{ \\begin{array}{ll}\n",
    "\\hat{\\beta}_j & \\mid\\hat{\\beta}_j\\mid > \\lambda\\\\\n",
    "0 &\\verb|otherwise|\\\\\n",
    "\\end{array}\n",
    "\\right.\n",
    "\\end{eqnarray}\n",
    "An alternative is soft thresholding, where we combine shrinkage with hard thresholding.\n",
    "\\begin{eqnarray}\n",
    "\\tilde{\\beta}_j=sgn(\\hat{\\beta}_j)[\\mid\\hat{\\beta}_j\\mid-\\lambda]_{+}=\\left\\{ \\begin{array}{ll}\n",
    "\\tilde{\\beta}_j=\\hat{\\beta}_j-\\lambda & \\verb|if |\\mid\\hat{\\beta}_j\\mid > \\lambda\\\\\n",
    "\\tilde{\\beta}_j=0 & \\verb|if |\\mid\\hat{\\beta}_j\\mid \\leq \\lambda \\\\\n",
    "\\end{array}\n",
    "\\right.\n",
    "\\end{eqnarray}\n",
    "\n",
    "But what can we do in a more general case where $X$ is not orthogonal or $p$ is bigger than $n$?  One popular thing nowadays is putting a penalty or constraint on the model complexity.  The two most popular ways are the subset selection and shrinkage methods."
   ]
  },
  {
   "cell_type": "markdown",
   "id": "765d790a",
   "metadata": {},
   "source": [
    "#### subset selection\n",
    "\n",
    "Subset selection is most commonly done by restricting the number of none zero $\\tilde{\\beta}_j$ to be less than some constant $k$.  But solving that is unfeasible when $p$ is large since it is an N-P hard problem.   In the orthogonal $X$ situation, ordering the $\\tilde{\\beta}_j$ and choosing $k$ largest subset selection is equivalent to hard thresholding."
   ]
  },
  {
   "cell_type": "markdown",
   "id": "4b26b67a",
   "metadata": {},
   "source": [
    "#### Shrinkage\n",
    "\n",
    "For general $X$, we can also perform shrinkage. The idea is to minimize $\\parallel \\mathbf{y}-\\mathbf{X}\\boldsymbol{\\beta}\\parallel^2$ subject to some constraint.  When we set the constraint as $\\parallel\\boldsymbol{\\beta}\\parallel^2<t$, the result is called the ridge regression.  Similarly, if we choose the constraint as $\\mid\\boldsymbol{\\beta}\\mid<t$, then the result is known as the LASSO (Least Absolute Shrinkage and Selection Operator) regression.  It turns out that this constrained minimization problem can be generalized to minimizing an objective function of the form $\\parallel \\mathbf{y}-\\mathbf{X}\\boldsymbol{\\beta} \\parallel^2+\\lambda \\parallel \\boldsymbol{\\beta} \\parallel_{L_p}$ where $\\parallel \\parallel_{L_p}$ is called the $L_p$ norm and $\\lambda$ is the complexity parameter that controls the amount of shrinkage."
   ]
  },
  {
   "cell_type": "markdown",
   "id": "8a884318",
   "metadata": {},
   "source": [
    "##### Ridge Regression\n",
    "\n",
    "Ridge Regression is used when you don't have collinearity in your predictor variables.  We can consider it a constraint optimization under the $l_2$ norm or shrinkage estimation. So, for a general setting:\n",
    "\n",
    "observation  | predictor 1     | predictor 2     | $\\cdots$ | predictor p     | response\n",
    "-------------|-----------------|-----------------|----------|-----------------|----------\n",
    "1            | $x_{11}$        | $x_{12}$        | $\\cdots$ | $x_{1p}$        | $y_1$\n",
    "2            | $x_{21}$        | $x_{22}$        | $\\cdots$ | $x_{2p}$        | $y_2$\n",
    "$\\vdots$     | $\\vdots$        | $\\vdots$        | $\\ddots$ | $\\vdots$        | $\\vdots$\n",
    "n            | $x_{n1}$        | $x_{n2}$        | $\\cdots$ | $x_{np}$        | $y_n$\n",
    "&nbsp;       | $\\mathbf{X}_{1}$| $\\mathbf{X}_{2}$| $\\cdots$ | $\\mathbf{X}_{p}$| $\\mathbf{y}$\n",
    "\n",
    "\n",
    "$$\n",
    "\\mathbf{X}=\\left[\n",
    "\\begin{array}{cccc}\n",
    "\\mathbf{X}_{1}&\\mathbf{X}_{2}&\\cdots &\\mathbf{X}_{p} \\\\\n",
    "\\end{array}\n",
    "\\right]\\verb|, and |\n",
    "\\boldsymbol{\\beta}=\\left[\n",
    "\\begin{array}{c}\n",
    "\\beta_{1} \\\\\n",
    "\\vdots\\\\\n",
    "\\beta_{p} \\\\\n",
    "\\end{array}\n",
    "\\right]\n",
    "$$\n",
    "\n",
    " To find the ridge regression estimate, we want to minimize the objective function of form $\\left(\\parallel \\mathbf{y}-\\mathbf{X}\\boldsymbol{\\beta} \\parallel^2+\\lambda\\parallel \\boldsymbol{\\beta}\\parallel^2\\right)$.  As constrained optimization, we want to minimize $\\parallel \\mathbf{y}-\\mathbf{X}\\beta \\parallel^2$ subject to $\\parallel \\boldsymbol{\\beta} \\parallel^2 \\leq t$ constraint for some constant $t$.\n",
    "\n",
    "\n",
    "\n",
    " Imagine a contour defined by $\\parallel \\mathbf{y}-\\mathbf{X}\\boldsymbol{\\beta} \\parallel^2$ with its lowest at $\\hat{\\boldsymbol{\\beta}}_{LS}$.  Now imagine a circle around the origin where the diameter is defined by a tuning parameter $t$ such that it satisfies $\\parallel \\boldsymbol{\\beta} \\parallel^2 <t$.  Our solution can only be inside this circle.  Without any constraint on $t$, i.e. $t=\\infty$ we will get $\\hat{\\boldsymbol{\\beta}}_{LS}$ as an estimate that minimizes $\\parallel \\mathbf{y}-\\mathbf{X}\\beta \\parallel^2$. But as t gets smaller, we depart from our $\\hat{\\boldsymbol{\\beta}}_{LS}$ since the solution has to be within the circle.  Thus, we can see that the solution we want is on the circle closest to $\\hat{\\boldsymbol{\\beta}}_{LS}$, which is the point circle that touches the ellipse.  Equivalently, our solution can be thought of as shrinkage.  As t gets smaller, we are shrinking our $\\hat{\\boldsymbol{\\beta}}_{LS}$  toward zero on the diagonal line from $\\hat{\\boldsymbol{\\beta}}_{LS}$ to the origin.\n",
    "\n",
    " ![Ridge Image](Images/Ridge.png)\n",
    "\n",
    "\n",
    "So lets solve for $\\parallel \\mathbf{y}-\\mathbf{X}\\boldsymbol{\\beta} \\parallel^2+\\lambda \\parallel \\boldsymbol{\\beta} \\parallel^2$\n",
    "\\begin{eqnarray*}\n",
    "\\frac{\\partial }{\\partial \\boldsymbol{\\beta}}\\parallel \\mathbf{y}-\\mathbf{X}\\boldsymbol{\\beta} \\parallel^2+\\lambda \\parallel \\boldsymbol{\\beta} \\parallel^2&=&-2( \\mathbf{y}-\\mathbf{X}\\boldsymbol{\\beta})X +2\\lambda\\boldsymbol{\\beta}\\\\\n",
    "&\\Rightarrow&  -\\mathbf{y}^T\\mathbf{X}+\\hat{\\boldsymbol{\\beta}}\\mathbf{X}^T\\mathbf{X} + \\lambda\\hat{\\boldsymbol{\\beta}}=0\\\\\n",
    "&=& \\hat{\\boldsymbol{\\beta}}(\\mathbf{X}^T\\mathbf{X} +\\lambda I)=\\mathbf{y}^TX\\\\\n",
    "&=& \\hat{\\boldsymbol{\\beta}}=(\\mathbf{X}^T\\mathbf{X} +\\lambda I)^{-1}\\mathbf{y}^TX\\\\\n",
    "\\end{eqnarray*}\n",
    "Hence we see $\\hat{\\boldsymbol{\\beta}}_{pythonidge}=(\\mathbf{X}^T\\mathbf{X} +\\lambda \\mathbf{I})^{-1}\\mathbf{y}^T\\mathbf{X}$."
   ]
  },
  {
   "cell_type": "markdown",
   "id": "5f1a0ebd",
   "metadata": {},
   "source": [
    "##### LASSO (Least Absolute Shrinkage and Selection Operator)\n",
    "\n",
    "The idea of LASSO is similar to Ridge Regression. Using the same setting as before, the only difference is we want to minimize an objective function of the form $\\left(\\parallel \\mathbf{y}-\\mathbf{X}\\boldsymbol{\\beta} \\parallel^2+\\lambda\\mid \\boldsymbol{\\beta}\\mid\\right)$ or equivalently perform constraint minimization of $\\parallel \\mathbf{y}-\\mathbf{X}\\boldsymbol{\\beta} \\parallel^2$ subject to $\\mid \\boldsymbol{\\beta} \\mid\\leq t$ constraint ($\\mid \\boldsymbol{\\beta} \\mid=\\sum^p_{j=1}\\mid \\beta_j\\mid$).\n",
    "\n",
    "Geometrically speaking (for $p=2$ case) we want to find $\\hat{\\boldsymbol{\\beta}}$ that is closest to $\\hat{\\boldsymbol{\\beta}}_{LS}$ within the diamond shaped region that is $\\mid \\boldsymbol{\\beta} \\mid<t$.\n",
    "Unlike $L_2$ norm, $L_1$ norm has corners and edges that touch the contour of $\\parallel \\mathbf{y}-\\mathbf{X}\\boldsymbol{\\beta} \\parallel^2$ first most of the time.  This acts as the variable selector in high-dimensional space.  Thus, when we look at the solution path of LASSO, we see some coefficients take on the value of zero.\n",
    "\n",
    " ![Lasso Image](Images/Lasso.png)\n",
    "\n",
    "As $t$ increases, we gradually see more and more $\\boldsymbol{\\beta}$s coming into our model.  And this goes on until all $t$ is so big that the diamond shaped region includes $\\hat{\\boldsymbol{\\beta}}_{LS}$, in which case, all the estimates of $\\hat{\\boldsymbol{\\beta}}$ becomes $\\hat{\\boldsymbol{\\beta}}_{LS}$.  Or conversely, if you decrease your $t$, to zero your estimated  $\\hat{\\boldsymbol{\\beta}}$ starts to get shrunk toward zero from $\\hat{\\boldsymbol{\\beta}}_{LS}$.  So you can see that we are doing shrinkage estimation. Then, we want to choose $t$ to get the sparsest model with the lowest cross-validation error.\n",
    "\n",
    " ![Lasso Path Image](Images/Lasso_path.png)"
   ]
  },
  {
   "cell_type": "markdown",
   "id": "a58b2edd",
   "metadata": {},
   "source": [
    "### Proofs"
   ]
  },
  {
   "cell_type": "markdown",
   "id": "f6fc027e",
   "metadata": {},
   "source": [
    "#### Stein's lemma\n",
    "We first need Stein's lemma.`\n",
    "\\noindent{\\bf Stein's Lemma}\n",
    "According to Stein's lemma, for $Z\\sim N\\left(\\mu,\\sigma^2\\right)$, $E\\left[(z-\\mu)g(z)\\right]=\\sigma^2E\\left[g'(z)\\right]$.\n",
    "\\subsubsection*{proof}\n",
    "\\begin{eqnarray*}\n",
    "E\\left[(z-\\mu)g(z)\\right]&=&\\int(z-\\mu)g(z)\\frac{1}{\\sqrt{2\\pi\\sigma^2}}e^{\\frac{-(z-\\mu)^2}{2\\sigma^2}}dz\\\\\n",
    "&=&-\\sigma^2g(z)\\frac{1}{\\sqrt{2\\pi\\sigma^2}}e^{\\frac{-(z-\\mu)^2}{2\\sigma^2}}\\Bigr|^{\\infty}_{-\\infty}+\\sigma^2\\int g'(z)\\frac{1}{\\sqrt{2\\pi\\sigma^2}}e^{\\frac{-(z-\\mu)^2}{2\\sigma^2}}\\\\\n",
    "&=&\\sigma^2E\\left[g'(z)\\right]\n",
    "\\end{eqnarray*}"
   ]
  },
  {
   "cell_type": "markdown",
   "id": "123d53ca",
   "metadata": {},
   "source": [
    "#### Proof: Stein's estimator outperforms LS\n",
    "\n",
    "We are ready to prove that Stein's estimator outperforms the least square's estimate.  We will denote for the simplicity $\\hat{\\boldsymbol{\\beta}}_{LS} = \\boldsymbol{\\beta}$ and $\\boldsymbol{\\beta}_{best} =\\boldsymbol{\\theta}$.\n",
    "\\begin{eqnarray*}\n",
    "E\\parallel \\boldsymbol{\\beta}-\\boldsymbol{\\theta} \\parallel ^2&=&E\\left[\\sum^p_{i=1}\\left( \\beta_i-\\theta_i \\right)^2\\right]\\\\\n",
    "&=&p\\sigma^2\n",
    "\\end{eqnarray*}\n",
    "\\begin{eqnarray*}\n",
    "E\\left[\\Biggl|\\Biggl|\\left(1-\\frac{(p-2)\\sigma^2}{\\parallel \\boldsymbol{\\beta}\\parallel^2}\\right)\\boldsymbol{\\beta} -\\boldsymbol{\\theta} \\Biggr|\\Biggr| ^2\\right]&=&E\\left[\\Biggl|\\Biggl| (\\boldsymbol{\\beta}-\\boldsymbol{\\theta})-\\frac{(p-2)\\sigma^2}{\\parallel \\boldsymbol{\\beta}\\parallel^2}\\boldsymbol{\\beta}\\Biggr|\\Biggr|^2\\right]\\\\\n",
    "&=&E\\parallel\\boldsymbol{\\beta}-\\boldsymbol{\\theta}\\parallel^2+E\\left[\\frac{(p-2)^2\\sigma^4}{\\parallel \\boldsymbol{\\beta}\\parallel^2}\\right]-2E\\left[ \\langle \\boldsymbol{\\beta}-\\boldsymbol{\\theta}, \\frac{(p-2)\\sigma^2}{\\parallel \\boldsymbol{\\beta}\\parallel^2}\\boldsymbol{\\beta} \\rangle \\right]=(*)\\\\\n",
    "\\end{eqnarray*}\n",
    "Since $E\\left[ \\langle \\boldsymbol{\\beta}-\\theta, \\frac{(p-2)\\sigma^2}{\\parallel \\boldsymbol{\\beta}\\parallel^2}\\boldsymbol{\\beta} \\rangle \\right]$ can be simplified as follows\n",
    "\\begin{eqnarray*}\n",
    "E\\left[\\sum^p_{i=1}(\\boldsymbol{\\beta}_i-\\theta_i)\\frac{(p-2)\\sigma^2}{\\parallel \\boldsymbol{\\beta}\\parallel^2}\\boldsymbol{\\beta}_i \\right] &=& E\\left[\\sum^p_{i=1}(\\boldsymbol{\\beta}_i-\\theta_i)\\frac{(p-2)\\sigma^2}{ \\boldsymbol{\\beta}_i^2+\\sum^p_{j\\neq i} \\boldsymbol{\\beta}_j^2}\\boldsymbol{\\beta}_i \\right]\\\\\n",
    "\\end{eqnarray*}\n",
    "Letting $\\frac{(p-2)\\sigma^2}{ \\boldsymbol{\\beta}_i^2+\\sum^p_{j\\neq i} \\boldsymbol{\\beta}_j^2}\\boldsymbol{\\beta}_i=g(x_i)$, we can use Stein's lemma. Hence\n",
    "\\begin{eqnarray*}\n",
    " E\\left[\\sum^p_{i=1}(\\beta_i-\\theta_i)\\frac{(p-2)\\sigma^2}{ \\beta_i^2+\\sum^p_{j\\neq i} \\beta_j^2}\\beta_i \\right]&=& \\sigma^2\\sum^p_{i=1}E\\left[\\left(\\frac{(p-2)\\sigma^2}{ \\beta_i^2+\\sum^p_{j\\neq i} \\beta_j^2}\\beta_i \\right)'\\right]\\\\\n",
    "&=&\\sigma^2\\sum^p_{i=1} E\\left[\\frac{(p-2)\\sigma^2}{ \\parallel \\boldsymbol{\\beta}\\parallel^2}- \\frac{(p-2)\\sigma^2 2\\beta_i^2}{ \\parallel \\boldsymbol{\\beta}\\parallel^2}\\right]\\\\\n",
    "&=&\\sigma^2E\\left[\\frac{p(p-2)\\sigma^2}{ \\parallel \\boldsymbol{\\beta}\\parallel^2}- \\frac{2(p-2)\\sigma^2}{ \\parallel \\boldsymbol{\\beta}\\parallel^2}\\right]\\\\\n",
    "&=&E\\left[\\frac{(p-2)^2\\sigma^4}{\\parallel \\boldsymbol{\\beta}\\parallel^2}\\right]\n",
    "\\end{eqnarray*}\n",
    "\n",
    "Therefore:\n",
    "\\begin{eqnarray*}\n",
    "(*)&=&E\\left[\\parallel\\boldsymbol{\\beta}-\\boldsymbol{\\theta}\\parallel^2+\\frac{(p-2)^2\\sigma^4}{\\parallel \\boldsymbol{\\beta}\\parallel^2}-2\\frac{(p-2)^2\\sigma^4}{\\parallel \\boldsymbol{\\beta}\\parallel^2}\\right]\\\\\n",
    "&=&E\\left[\\parallel\\boldsymbol{\\beta}-\\boldsymbol{\\theta}\\parallel^2-\\frac{(p-2)^2\\sigma^4}{\\parallel \\boldsymbol{\\beta}\\parallel^2}\\right]\\leq E\\left[\\parallel\\boldsymbol{\\beta}-\\boldsymbol{\\theta}\\parallel^2\\right] = p\\sigma^2\n",
    "\\end{eqnarray*}"
   ]
  },
  {
   "cell_type": "markdown",
   "id": "a7c1bd28",
   "metadata": {},
   "source": [
    "### Reference"
   ]
  }
 ],
 "metadata": {
  "Rmd_chunk_options": {
   "author": "Your Name",
   "bibliography": "lecture.bib",
   "date": "2024-01-05",
   "output": "html_document",
   "title": "Regularization"
  },
  "cite2c": {
   "citations": {
    "16598153/A59N9N5V": {
     "author": [
      {
       "family": "Stein",
       "given": "Charles"
      },
      {
       "family": "others",
       "given": ""
      }
     ],
     "container-title": "Proceedings of the Third Berkeley symposium on mathematical statistics and probability",
     "issued": {
      "date-parts": [
       [
        1956
       ]
      ]
     },
     "note": "Issue: 399",
     "page": "197–206",
     "title": "Inadmissibility of the usual estimator for the mean of a multivariate normal distribution",
     "type": "paper-conference",
     "volume": "1"
    },
    "16598153/M2VTBEWL": {
     "author": [
      {
       "family": "James",
       "given": "William"
      },
      {
       "family": "Stein",
       "given": "Charles"
      }
     ],
     "container-title": "Proceedings of the fourth Berkeley symposium on mathematical statistics and probability",
     "issued": {
      "date-parts": [
       [
        1961
       ]
      ]
     },
     "note": "Issue: 1961",
     "page": "361–379",
     "title": "Estimation with quadratic loss",
     "type": "paper-conference",
     "volume": "1"
    }
   }
  },
  "kernelspec": {
   "display_name": "Python 3 (ipykernel)",
   "language": "python",
   "name": "python3"
  },
  "language_info": {
   "codemirror_mode": {
    "name": "ipython",
    "version": 3
   },
   "file_extension": ".py",
   "mimetype": "text/x-python",
   "name": "python",
   "nbconvert_exporter": "python",
   "pygments_lexer": "ipython3",
   "version": "3.9.12"
  },
  "sos": {
   "kernels": [
    [
     "SoS",
     "sos",
     "",
     ""
    ],
    [
     "R",
     "ir",
     "",
     ""
    ],
    [
     "css",
     "css",
     "",
     ""
    ],
    [
     "Python3",
     "ir",
     "",
     ""
    ],
    [
     "Markdown",
     "markdown",
     "",
     ""
    ]
   ]
  }
 },
 "nbformat": 4,
 "nbformat_minor": 5
}
